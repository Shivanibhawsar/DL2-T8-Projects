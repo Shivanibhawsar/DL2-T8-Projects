{
  "nbformat": 4,
  "nbformat_minor": 0,
  "metadata": {
    "colab": {
      "name": "project-strangecues.ipynb",
      "provenance": [],
      "collapsed_sections": [],
      "toc_visible": true
    },
    "kernelspec": {
      "name": "python3",
      "display_name": "Python 3"
    },
    "language_info": {
      "name": "python"
    }
  },
  "cells": [
    {
      "cell_type": "markdown",
      "metadata": {
        "id": "15WnEHxQEA9N"
      },
      "source": [
        "#IMDb Data Analysis and Top 1% Movies and TV series"
      ]
    },
    {
      "cell_type": "code",
      "metadata": {
        "id": "2S0cb_peDdbi"
      },
      "source": [
        "import pandas as pd\n",
        "import numpy as np\n",
        "from sklearn.pipeline import make_pipeline, make_union\n",
        "from sklearn.preprocessing import StandardScaler\n",
        "from sklearn.feature_extraction import DictVectorizer\n",
        "from sklearn.linear_model import LogisticRegression\n",
        "from sklearn.neural_network import MLPClassifier\n",
        "from sklearn.metrics import roc_auc_score, f1_score, average_precision_score, precision_score, recall_score, fbeta_score, precision_recall_curve, auc\n",
        "from hyperopt import fmin, tpe, hp, STATUS_OK, Trials\n",
        "from sklearn.model_selection import ParameterGrid\n",
        "from sklearn.base import BaseEstimator, TransformerMixin\n",
        "from tqdm.notebook import tqdm\n",
        "import csv\n",
        "from gensim.models.callbacks import CallbackAny2Vec\n",
        "from itertools import groupby\n",
        "from gensim.models import Word2Vec\n",
        "import gensim\n",
        "from pathlib import Path\n",
        "import matplotlib.pyplot as plt\n",
        "import os\n",
        "import random\n",
        "pd.options.display.max_columns = 999"
      ],
      "execution_count": null,
      "outputs": []
    },
    {
      "cell_type": "code",
      "metadata": {
        "id": "Tfo58y-9Ddbl"
      },
      "source": [
        "PATH = Path('/content/drive/MyDrive/Colab_Notebooks/imdb-dataset')"
      ],
      "execution_count": null,
      "outputs": []
    },
    {
      "cell_type": "markdown",
      "metadata": {
        "id": "bf5LzjLItnDf"
      },
      "source": [
        "## Load Data"
      ]
    },
    {
      "cell_type": "code",
      "metadata": {
        "id": "bPY4w4S8Ddbm"
      },
      "source": [
        "def load_data(start_year, min_minutes, min_votes):\n",
        "    title_basics = pd.read_csv(PATH / 'title.basics.tsv' / 'title.basics.tsv', sep='\\t')\n",
        "    title_ratings = pd.read_csv(PATH / 'title.ratings.tsv'/ 'title.ratings.tsv', sep='\\t')\n",
        "    title_basics.genres = title_basics.genres.apply(\n",
        "                        lambda x: x.split(',') if ((type(x)!=float) & (x!=r'\\N')) else ['no_genre'])\n",
        "\n",
        "    title_basics.runtimeMinutes = (\n",
        "     title_basics.runtimeMinutes.apply(lambda x: np.nan if not x.isdigit() else x).astype(float)\n",
        "                                )\n",
        "    \n",
        "    title_basics = title_basics[\n",
        "        title_basics.titleType.isin(['movie'])\n",
        "        & ~title_basics.runtimeMinutes.isna()\n",
        "        & (title_basics.runtimeMinutes <= 3.5 * 60)\n",
        "        & title_basics.genres.apply(lambda x: 'Short' not in x)\n",
        "        ]\n",
        "    \n",
        "    movies = pd.merge(title_basics, title_ratings, on='tconst', how='left')\n",
        "    movies['startYear'] = movies['startYear'].apply(lambda x: np.nan if x == r'\\N' else int(x))\n",
        "    \n",
        "    # MY CONDITIONS:\n",
        "    movies = movies[movies.startYear > start_year].dropna(subset=['averageRating'])\n",
        "    movies = movies[movies.runtimeMinutes >= min_minutes]\n",
        "    movies = movies[movies.numVotes>=min_votes]\n",
        "    return movies"
      ],
      "execution_count": null,
      "outputs": []
    },
    {
      "cell_type": "code",
      "metadata": {
        "id": "ki7ujC5JDdbm",
        "colab": {
          "base_uri": "https://localhost:8080/"
        },
        "outputId": "bb0f539a-7216-4a80-8566-6623d44a385d"
      },
      "source": [
        "movies = load_data(start_year = 1960, min_minutes = 60, min_votes = 15)"
      ],
      "execution_count": null,
      "outputs": [
        {
          "output_type": "stream",
          "text": [
            "/usr/local/lib/python3.7/dist-packages/IPython/core/interactiveshell.py:2822: DtypeWarning: Columns (5) have mixed types.Specify dtype option on import or set low_memory=False.\n",
            "  if self.run_code(code, result):\n"
          ],
          "name": "stderr"
        }
      ]
    },
    {
      "cell_type": "code",
      "metadata": {
        "id": "ztTJLIQJDdbn"
      },
      "source": [
        "principals = pd.read_csv(PATH /'title.principals.tsv'/'title.principals.tsv',delimiter=\"\\t\")"
      ],
      "execution_count": null,
      "outputs": []
    },
    {
      "cell_type": "code",
      "metadata": {
        "id": "JzOY0IXqDdbn"
      },
      "source": [
        "cast = principals[principals['category'].isin(['actor', 'actress'])]\n",
        "crew = principals[~principals['category'].isin(['actor', 'actress'])]"
      ],
      "execution_count": null,
      "outputs": []
    },
    {
      "cell_type": "code",
      "metadata": {
        "id": "rUQ7P0iBDdbo",
        "colab": {
          "base_uri": "https://localhost:8080/",
          "height": 111
        },
        "outputId": "0613e964-4e15-4283-ad9b-a8ad426e2540"
      },
      "source": [
        "ordered_cast = pd.DataFrame(cast.groupby(by='tconst').apply(lambda x: [x for x in x['nconst']]))\n",
        "ordered_cast = ordered_cast.reset_index().rename(columns={0: 'cast'})\n",
        "ordered_cast.head(2)"
      ],
      "execution_count": null,
      "outputs": [
        {
          "output_type": "execute_result",
          "data": {
            "text/html": [
              "<div>\n",
              "<style scoped>\n",
              "    .dataframe tbody tr th:only-of-type {\n",
              "        vertical-align: middle;\n",
              "    }\n",
              "\n",
              "    .dataframe tbody tr th {\n",
              "        vertical-align: top;\n",
              "    }\n",
              "\n",
              "    .dataframe thead th {\n",
              "        text-align: right;\n",
              "    }\n",
              "</style>\n",
              "<table border=\"1\" class=\"dataframe\">\n",
              "  <thead>\n",
              "    <tr style=\"text-align: right;\">\n",
              "      <th></th>\n",
              "      <th>tconst</th>\n",
              "      <th>cast</th>\n",
              "    </tr>\n",
              "  </thead>\n",
              "  <tbody>\n",
              "    <tr>\n",
              "      <th>0</th>\n",
              "      <td>tt0000005</td>\n",
              "      <td>[nm0443482, nm0653042]</td>\n",
              "    </tr>\n",
              "    <tr>\n",
              "      <th>1</th>\n",
              "      <td>tt0000007</td>\n",
              "      <td>[nm0179163, nm0183947]</td>\n",
              "    </tr>\n",
              "  </tbody>\n",
              "</table>\n",
              "</div>"
            ],
            "text/plain": [
              "      tconst                    cast\n",
              "0  tt0000005  [nm0443482, nm0653042]\n",
              "1  tt0000007  [nm0179163, nm0183947]"
            ]
          },
          "metadata": {
            "tags": []
          },
          "execution_count": 7
        }
      ]
    },
    {
      "cell_type": "code",
      "metadata": {
        "id": "-rWxHNAaDdbo",
        "colab": {
          "base_uri": "https://localhost:8080/"
        },
        "outputId": "c9d57d58-a8d6-4f02-80ef-423c4bdda184"
      },
      "source": [
        "# If it went right, we should have no duplicated movies (tconst)\n",
        "ordered_cast.duplicated('tconst').any()"
      ],
      "execution_count": null,
      "outputs": [
        {
          "output_type": "execute_result",
          "data": {
            "text/plain": [
              "False"
            ]
          },
          "metadata": {
            "tags": []
          },
          "execution_count": 8
        }
      ]
    },
    {
      "cell_type": "code",
      "metadata": {
        "id": "hwNMGoo-Ddbp",
        "colab": {
          "base_uri": "https://localhost:8080/",
          "height": 111
        },
        "outputId": "cc9c9830-395e-48f9-ee2d-635942b96168"
      },
      "source": [
        "ordered_crew = pd.DataFrame(crew.groupby(by='tconst').apply(lambda x: [x for x in x['nconst']]))\n",
        "ordered_crew = ordered_crew.reset_index().rename(columns={0: 'crew'})\n",
        "ordered_crew.head(2)"
      ],
      "execution_count": null,
      "outputs": [
        {
          "output_type": "execute_result",
          "data": {
            "text/html": [
              "<div>\n",
              "<style scoped>\n",
              "    .dataframe tbody tr th:only-of-type {\n",
              "        vertical-align: middle;\n",
              "    }\n",
              "\n",
              "    .dataframe tbody tr th {\n",
              "        vertical-align: top;\n",
              "    }\n",
              "\n",
              "    .dataframe thead th {\n",
              "        text-align: right;\n",
              "    }\n",
              "</style>\n",
              "<table border=\"1\" class=\"dataframe\">\n",
              "  <thead>\n",
              "    <tr style=\"text-align: right;\">\n",
              "      <th></th>\n",
              "      <th>tconst</th>\n",
              "      <th>crew</th>\n",
              "    </tr>\n",
              "  </thead>\n",
              "  <tbody>\n",
              "    <tr>\n",
              "      <th>0</th>\n",
              "      <td>tt0000001</td>\n",
              "      <td>[nm1588970, nm0005690, nm0374658]</td>\n",
              "    </tr>\n",
              "    <tr>\n",
              "      <th>1</th>\n",
              "      <td>tt0000002</td>\n",
              "      <td>[nm0721526, nm1335271]</td>\n",
              "    </tr>\n",
              "  </tbody>\n",
              "</table>\n",
              "</div>"
            ],
            "text/plain": [
              "      tconst                               crew\n",
              "0  tt0000001  [nm1588970, nm0005690, nm0374658]\n",
              "1  tt0000002             [nm0721526, nm1335271]"
            ]
          },
          "metadata": {
            "tags": []
          },
          "execution_count": 9
        }
      ]
    },
    {
      "cell_type": "code",
      "metadata": {
        "id": "KFlgi9tlDdbp",
        "colab": {
          "base_uri": "https://localhost:8080/"
        },
        "outputId": "5d9d297b-061d-44f3-ddca-c62efe0ecef1"
      },
      "source": [
        "# If it went right, we should have no duplicated movies (tconst)\n",
        "ordered_crew['tconst'].value_counts().max()"
      ],
      "execution_count": null,
      "outputs": [
        {
          "output_type": "execute_result",
          "data": {
            "text/plain": [
              "1"
            ]
          },
          "metadata": {
            "tags": []
          },
          "execution_count": 10
        }
      ]
    },
    {
      "cell_type": "code",
      "metadata": {
        "id": "zVyV0RYGDdbp",
        "colab": {
          "base_uri": "https://localhost:8080/"
        },
        "outputId": "2f83ba5f-b700-49d1-8258-d1742ecfcf8a"
      },
      "source": [
        "movies = pd.merge(movies, ordered_cast, on='tconst', how='left').merge(ordered_crew, on='tconst', how='left')\n",
        "\n",
        "# If it went right, we should have no duplicated movies (tconst)\n",
        "movies.duplicated('tconst').any()"
      ],
      "execution_count": null,
      "outputs": [
        {
          "output_type": "execute_result",
          "data": {
            "text/plain": [
              "False"
            ]
          },
          "metadata": {
            "tags": []
          },
          "execution_count": 11
        }
      ]
    },
    {
      "cell_type": "code",
      "metadata": {
        "id": "Zo457f1-Ddbq",
        "colab": {
          "base_uri": "https://localhost:8080/",
          "height": 131
        },
        "outputId": "a013803b-3621-467f-8f35-a0a44b269b62"
      },
      "source": [
        "# CHECK: Avengers Endgame\n",
        "movies[movies['tconst']=='tt4154796']"
      ],
      "execution_count": null,
      "outputs": [
        {
          "output_type": "execute_result",
          "data": {
            "text/html": [
              "<div>\n",
              "<style scoped>\n",
              "    .dataframe tbody tr th:only-of-type {\n",
              "        vertical-align: middle;\n",
              "    }\n",
              "\n",
              "    .dataframe tbody tr th {\n",
              "        vertical-align: top;\n",
              "    }\n",
              "\n",
              "    .dataframe thead th {\n",
              "        text-align: right;\n",
              "    }\n",
              "</style>\n",
              "<table border=\"1\" class=\"dataframe\">\n",
              "  <thead>\n",
              "    <tr style=\"text-align: right;\">\n",
              "      <th></th>\n",
              "      <th>tconst</th>\n",
              "      <th>titleType</th>\n",
              "      <th>primaryTitle</th>\n",
              "      <th>originalTitle</th>\n",
              "      <th>isAdult</th>\n",
              "      <th>startYear</th>\n",
              "      <th>endYear</th>\n",
              "      <th>runtimeMinutes</th>\n",
              "      <th>genres</th>\n",
              "      <th>averageRating</th>\n",
              "      <th>numVotes</th>\n",
              "      <th>cast</th>\n",
              "      <th>crew</th>\n",
              "    </tr>\n",
              "  </thead>\n",
              "  <tbody>\n",
              "    <tr>\n",
              "      <th>115780</th>\n",
              "      <td>tt4154796</td>\n",
              "      <td>movie</td>\n",
              "      <td>Avengers: Endgame</td>\n",
              "      <td>Avengers: Endgame</td>\n",
              "      <td>0</td>\n",
              "      <td>2019.0</td>\n",
              "      <td>\\N</td>\n",
              "      <td>181.0</td>\n",
              "      <td>[Action, Adventure, Drama]</td>\n",
              "      <td>8.5</td>\n",
              "      <td>602740.0</td>\n",
              "      <td>[nm0000375, nm0262635, nm0749263, nm1165110]</td>\n",
              "      <td>[nm0456158, nm0751577, nm0751648, nm1321655, n...</td>\n",
              "    </tr>\n",
              "  </tbody>\n",
              "</table>\n",
              "</div>"
            ],
            "text/plain": [
              "           tconst titleType       primaryTitle      originalTitle  isAdult  \\\n",
              "115780  tt4154796     movie  Avengers: Endgame  Avengers: Endgame        0   \n",
              "\n",
              "        startYear endYear  runtimeMinutes                      genres  \\\n",
              "115780     2019.0      \\N           181.0  [Action, Adventure, Drama]   \n",
              "\n",
              "        averageRating  numVotes                                          cast  \\\n",
              "115780            8.5  602740.0  [nm0000375, nm0262635, nm0749263, nm1165110]   \n",
              "\n",
              "                                                     crew  \n",
              "115780  [nm0456158, nm0751577, nm0751648, nm1321655, n...  "
            ]
          },
          "metadata": {
            "tags": []
          },
          "execution_count": 12
        }
      ]
    },
    {
      "cell_type": "markdown",
      "metadata": {
        "id": "MovsWd4FuRXY"
      },
      "source": [
        "We do however have some movies with no cast or crew."
      ]
    },
    {
      "cell_type": "code",
      "metadata": {
        "id": "PjJB0il4Ddbq",
        "colab": {
          "base_uri": "https://localhost:8080/"
        },
        "outputId": "9aaacf3c-84ce-49c4-d9ed-bcfc8b2c3d51"
      },
      "source": [
        "movies['cast'].isna().sum()"
      ],
      "execution_count": null,
      "outputs": [
        {
          "output_type": "execute_result",
          "data": {
            "text/plain": [
              "12260"
            ]
          },
          "metadata": {
            "tags": []
          },
          "execution_count": 13
        }
      ]
    },
    {
      "cell_type": "code",
      "metadata": {
        "id": "I5eOhlNyDdbr",
        "colab": {
          "base_uri": "https://localhost:8080/"
        },
        "outputId": "929cc224-3a89-4ce5-bb73-06fc86b0b07f"
      },
      "source": [
        "movies['crew'].isna().sum()"
      ],
      "execution_count": null,
      "outputs": [
        {
          "output_type": "execute_result",
          "data": {
            "text/plain": [
              "531"
            ]
          },
          "metadata": {
            "tags": []
          },
          "execution_count": 14
        }
      ]
    },
    {
      "cell_type": "markdown",
      "metadata": {
        "id": "OV7Sr5xXwDgN"
      },
      "source": [
        "Let's check a couple."
      ]
    },
    {
      "cell_type": "code",
      "metadata": {
        "id": "1giDm8TyDdbr",
        "colab": {
          "base_uri": "https://localhost:8080/",
          "height": 145
        },
        "outputId": "9caf4757-0497-41fb-9b2f-9497d241f95f"
      },
      "source": [
        "movies[movies['cast'].isna()].head(2)"
      ],
      "execution_count": null,
      "outputs": [
        {
          "output_type": "execute_result",
          "data": {
            "text/html": [
              "<div>\n",
              "<style scoped>\n",
              "    .dataframe tbody tr th:only-of-type {\n",
              "        vertical-align: middle;\n",
              "    }\n",
              "\n",
              "    .dataframe tbody tr th {\n",
              "        vertical-align: top;\n",
              "    }\n",
              "\n",
              "    .dataframe thead th {\n",
              "        text-align: right;\n",
              "    }\n",
              "</style>\n",
              "<table border=\"1\" class=\"dataframe\">\n",
              "  <thead>\n",
              "    <tr style=\"text-align: right;\">\n",
              "      <th></th>\n",
              "      <th>tconst</th>\n",
              "      <th>titleType</th>\n",
              "      <th>primaryTitle</th>\n",
              "      <th>originalTitle</th>\n",
              "      <th>isAdult</th>\n",
              "      <th>startYear</th>\n",
              "      <th>endYear</th>\n",
              "      <th>runtimeMinutes</th>\n",
              "      <th>genres</th>\n",
              "      <th>averageRating</th>\n",
              "      <th>numVotes</th>\n",
              "      <th>cast</th>\n",
              "      <th>crew</th>\n",
              "    </tr>\n",
              "  </thead>\n",
              "  <tbody>\n",
              "    <tr>\n",
              "      <th>53</th>\n",
              "      <td>tt0054050</td>\n",
              "      <td>movie</td>\n",
              "      <td>The Making of the President 1960</td>\n",
              "      <td>The Making of the President 1960</td>\n",
              "      <td>0</td>\n",
              "      <td>1963.0</td>\n",
              "      <td>\\N</td>\n",
              "      <td>90.0</td>\n",
              "      <td>[Documentary, History]</td>\n",
              "      <td>7.3</td>\n",
              "      <td>18.0</td>\n",
              "      <td>NaN</td>\n",
              "      <td>[nm0142216, nm0300010, nm0448123, nm0633271, n...</td>\n",
              "    </tr>\n",
              "    <tr>\n",
              "      <th>214</th>\n",
              "      <td>tt0054770</td>\n",
              "      <td>movie</td>\n",
              "      <td>The Crimebusters</td>\n",
              "      <td>The Crimebusters</td>\n",
              "      <td>0</td>\n",
              "      <td>1962.0</td>\n",
              "      <td>\\N</td>\n",
              "      <td>88.0</td>\n",
              "      <td>[Crime, Drama]</td>\n",
              "      <td>7.3</td>\n",
              "      <td>17.0</td>\n",
              "      <td>NaN</td>\n",
              "      <td>[nm0818157, nm0725052, nm0300010, nm0683984, n...</td>\n",
              "    </tr>\n",
              "  </tbody>\n",
              "</table>\n",
              "</div>"
            ],
            "text/plain": [
              "        tconst titleType                      primaryTitle  \\\n",
              "53   tt0054050     movie  The Making of the President 1960   \n",
              "214  tt0054770     movie                  The Crimebusters   \n",
              "\n",
              "                        originalTitle  isAdult  startYear endYear  \\\n",
              "53   The Making of the President 1960        0     1963.0      \\N   \n",
              "214                  The Crimebusters        0     1962.0      \\N   \n",
              "\n",
              "     runtimeMinutes                  genres  averageRating  numVotes cast  \\\n",
              "53             90.0  [Documentary, History]            7.3      18.0  NaN   \n",
              "214            88.0          [Crime, Drama]            7.3      17.0  NaN   \n",
              "\n",
              "                                                  crew  \n",
              "53   [nm0142216, nm0300010, nm0448123, nm0633271, n...  \n",
              "214  [nm0818157, nm0725052, nm0300010, nm0683984, n...  "
            ]
          },
          "metadata": {
            "tags": []
          },
          "execution_count": 15
        }
      ]
    },
    {
      "cell_type": "code",
      "metadata": {
        "id": "2L6kOnE0Ddbr"
      },
      "source": [
        "movies['cast'].fillna('Unknown', inplace=True)\n",
        "movies['crew'].fillna('Unknown', inplace=True)"
      ],
      "execution_count": null,
      "outputs": []
    },
    {
      "cell_type": "markdown",
      "metadata": {
        "id": "i9EOYR6cDdbr"
      },
      "source": [
        "## Word2Vec"
      ]
    },
    {
      "cell_type": "code",
      "metadata": {
        "id": "WoIqxco4Ddbr",
        "colab": {
          "base_uri": "https://localhost:8080/"
        },
        "outputId": "ce4cd76d-a9d8-4518-97a6-0f9239207260"
      },
      "source": [
        "to_wtv = pd.DataFrame(principals.groupby(by='tconst').apply(lambda x: [x for x in x['nconst']])).reset_index().iloc[:, 1]\n",
        "to_wtv.head(3)"
      ],
      "execution_count": null,
      "outputs": [
        {
          "output_type": "execute_result",
          "data": {
            "text/plain": [
              "0               [nm1588970, nm0005690, nm0374658]\n",
              "1                          [nm0721526, nm1335271]\n",
              "2    [nm0721526, nm5442194, nm1335271, nm5442200]\n",
              "Name: 0, dtype: object"
            ]
          },
          "metadata": {
            "tags": []
          },
          "execution_count": 17
        }
      ]
    },
    {
      "cell_type": "code",
      "metadata": {
        "id": "XhoZv3MFDdbs",
        "colab": {
          "base_uri": "https://localhost:8080/"
        },
        "outputId": "36413228-6b95-4509-ee6f-68c0edcaade5"
      },
      "source": [
        "wtv = Word2Vec(window=10, min_count=5)\n",
        "wtv.build_vocab(to_wtv)\n",
        "wtv.train(to_wtv, total_words=wtv.corpus_total_words, epochs=10)"
      ],
      "execution_count": null,
      "outputs": [
        {
          "output_type": "execute_result",
          "data": {
            "text/plain": [
              "(319604950, 364688170)"
            ]
          },
          "metadata": {
            "tags": []
          },
          "execution_count": 18
        }
      ]
    },
    {
      "cell_type": "code",
      "metadata": {
        "id": "byQsKk_RDdbs"
      },
      "source": [
        "from IPython.display import HTML, display\n",
        "from bs4 import BeautifulSoup\n",
        "import requests\n",
        "\n",
        "def get_name(id):\n",
        "    response = requests.get(f'https://www.imdb.com/name/{id}/')\n",
        "    soup = BeautifulSoup(response.content)\n",
        "    return soup.select('.header .itemprop')[0].text\n",
        "\n",
        "def get_image(id):\n",
        "    response = requests.get(f'https://www.imdb.com/name/{id}/')\n",
        "    soup = BeautifulSoup(response.content)\n",
        "    candidates = soup.select('#name-poster')\n",
        "    return candidates[0].attrs['src'] if candidates else 'https://m.media-amazon.com/images/G/01/imdb/images/nopicture/medium/name-2135195744._CB466677935_.png'\n",
        "\n",
        "def render_person(id):\n",
        "    name = get_name(id)\n",
        "    picture = get_image(id)\n",
        "    return f\"\"\"\n",
        "    <div style=\"width: 150px; text-align: center\">\n",
        "        <h4 style='margin-top: -5px'>{name}</h4>\n",
        "        <div style='font-size:75%; margin-bottom: 5px'>{id}</div>\n",
        "        <a href=\"https://www.imdb.com/name/{id}\" target=\"_blank\">\n",
        "            <img style=\"width: 100px; display: block; margin-left: auto; margin-right: auto;\" src=\"{picture}\"/>\n",
        "        </a>\n",
        "    </div>\n",
        "    \"\"\"\n",
        "\n",
        "def show_similars(id, n=10):\n",
        "    if id in wtv.wv: \n",
        "        display(HTML(render_person(id)))\n",
        "    renders = []\n",
        "    for similar_id, score in wtv.wv.most_similar(id, topn=n):\n",
        "        renders.append(render_person(similar_id))\n",
        "        \n",
        "    carousel = ''.join(\n",
        "        [\n",
        "            f'<div style=\"margin-left: 10px; float: left\">{p}</div>' \n",
        "            for p in renders\n",
        "        ]\n",
        "        )\n",
        "    display(HTML(f'<div style=\"width: 1800px\">{carousel}</div>'))\n",
        "\n",
        "def show_similars_tovector(id, n=10):\n",
        "    renders = []\n",
        "    \n",
        "    for similar_id, score in wtv.wv.most_similar(id, topn=n):\n",
        "        renders.append(render_person(similar_id))\n",
        "        \n",
        "    carousel = ''.join(\n",
        "        [\n",
        "            f'<div style=\"margin-left: 10px; float: left\">{p}</div>' \n",
        "            for p in renders\n",
        "        ]\n",
        "    )\n",
        "    display(HTML(f'<div style=\"width: 1800px\">{carousel}</div>'))\n"
      ],
      "execution_count": null,
      "outputs": []
    },
    {
      "cell_type": "code",
      "metadata": {
        "colab": {
          "base_uri": "https://localhost:8080/",
          "height": 401
        },
        "id": "WqkUGMauyi61",
        "outputId": "34975cdc-3b58-44b2-a594-30ce1740c161"
      },
      "source": [
        "show_similars('nm0000138')"
      ],
      "execution_count": null,
      "outputs": [
        {
          "output_type": "display_data",
          "data": {
            "text/html": [
              "\n",
              "    <div style=\"width: 150px; text-align: center\">\n",
              "        <h4 style='margin-top: -5px'>Leonardo DiCaprio</h4>\n",
              "        <div style='font-size:75%; margin-bottom: 5px'>nm0000138</div>\n",
              "        <a href=\"https://www.imdb.com/name/nm0000138\" target=\"_blank\">\n",
              "            <img style=\"width: 100px; display: block; margin-left: auto; margin-right: auto;\" src=\"https://m.media-amazon.com/images/M/MV5BMjI0MTg3MzI0M15BMl5BanBnXkFtZTcwMzQyODU2Mw@@._V1_UY317_CR10,0,214,317_AL_.jpg\"/>\n",
              "        </a>\n",
              "    </div>\n",
              "    "
            ],
            "text/plain": [
              "<IPython.core.display.HTML object>"
            ]
          },
          "metadata": {
            "tags": []
          }
        },
        {
          "output_type": "display_data",
          "data": {
            "text/html": [
              "<div style=\"width: 1800px\"><div style=\"margin-left: 10px; float: left\">\n",
              "    <div style=\"width: 150px; text-align: center\">\n",
              "        <h4 style='margin-top: -5px'>Angelina Jolie</h4>\n",
              "        <div style='font-size:75%; margin-bottom: 5px'>nm0001401</div>\n",
              "        <a href=\"https://www.imdb.com/name/nm0001401\" target=\"_blank\">\n",
              "            <img style=\"width: 100px; display: block; margin-left: auto; margin-right: auto;\" src=\"https://m.media-amazon.com/images/M/MV5BODg3MzYwMjE4N15BMl5BanBnXkFtZTcwMjU5NzAzNw@@._V1_UY317_CR22,0,214,317_AL_.jpg\"/>\n",
              "        </a>\n",
              "    </div>\n",
              "    </div><div style=\"margin-left: 10px; float: left\">\n",
              "    <div style=\"width: 150px; text-align: center\">\n",
              "        <h4 style='margin-top: -5px'>Brad Pitt</h4>\n",
              "        <div style='font-size:75%; margin-bottom: 5px'>nm0000093</div>\n",
              "        <a href=\"https://www.imdb.com/name/nm0000093\" target=\"_blank\">\n",
              "            <img style=\"width: 100px; display: block; margin-left: auto; margin-right: auto;\" src=\"https://m.media-amazon.com/images/M/MV5BMjA1MjE2MTQ2MV5BMl5BanBnXkFtZTcwMjE5MDY0Nw@@._V1_UX214_CR0,0,214,317_AL_.jpg\"/>\n",
              "        </a>\n",
              "    </div>\n",
              "    </div><div style=\"margin-left: 10px; float: left\">\n",
              "    <div style=\"width: 150px; text-align: center\">\n",
              "        <h4 style='margin-top: -5px'>Matt Damon</h4>\n",
              "        <div style='font-size:75%; margin-bottom: 5px'>nm0000354</div>\n",
              "        <a href=\"https://www.imdb.com/name/nm0000354\" target=\"_blank\">\n",
              "            <img style=\"width: 100px; display: block; margin-left: auto; margin-right: auto;\" src=\"https://m.media-amazon.com/images/M/MV5BMTM0NzYzNDgxMl5BMl5BanBnXkFtZTcwMDg2MTMyMw@@._V1_UY317_CR11,0,214,317_AL_.jpg\"/>\n",
              "        </a>\n",
              "    </div>\n",
              "    </div><div style=\"margin-left: 10px; float: left\">\n",
              "    <div style=\"width: 150px; text-align: center\">\n",
              "        <h4 style='margin-top: -5px'>Tom Cruise</h4>\n",
              "        <div style='font-size:75%; margin-bottom: 5px'>nm0000129</div>\n",
              "        <a href=\"https://www.imdb.com/name/nm0000129\" target=\"_blank\">\n",
              "            <img style=\"width: 100px; display: block; margin-left: auto; margin-right: auto;\" src=\"https://m.media-amazon.com/images/M/MV5BMTk1MjM3NTU5M15BMl5BanBnXkFtZTcwMTMyMjAyMg@@._V1_UY317_CR14,0,214,317_AL_.jpg\"/>\n",
              "        </a>\n",
              "    </div>\n",
              "    </div><div style=\"margin-left: 10px; float: left\">\n",
              "    <div style=\"width: 150px; text-align: center\">\n",
              "        <h4 style='margin-top: -5px'>Johnny Depp</h4>\n",
              "        <div style='font-size:75%; margin-bottom: 5px'>nm0000136</div>\n",
              "        <a href=\"https://www.imdb.com/name/nm0000136\" target=\"_blank\">\n",
              "            <img style=\"width: 100px; display: block; margin-left: auto; margin-right: auto;\" src=\"https://m.media-amazon.com/images/M/MV5BMTM0ODU5Nzk2OV5BMl5BanBnXkFtZTcwMzI2ODgyNQ@@._V1_UY317_CR4,0,214,317_AL_.jpg\"/>\n",
              "        </a>\n",
              "    </div>\n",
              "    </div><div style=\"margin-left: 10px; float: left\">\n",
              "    <div style=\"width: 150px; text-align: center\">\n",
              "        <h4 style='margin-top: -5px'>Alexis Bensa</h4>\n",
              "        <div style='font-size:75%; margin-bottom: 5px'>nm1697532</div>\n",
              "        <a href=\"https://www.imdb.com/name/nm1697532\" target=\"_blank\">\n",
              "            <img style=\"width: 100px; display: block; margin-left: auto; margin-right: auto;\" src=\"https://m.media-amazon.com/images/G/01/imdb/images/nopicture/medium/name-2135195744._CB466677935_.png\"/>\n",
              "        </a>\n",
              "    </div>\n",
              "    </div><div style=\"margin-left: 10px; float: left\">\n",
              "    <div style=\"width: 150px; text-align: center\">\n",
              "        <h4 style='margin-top: -5px'>Casey Affleck</h4>\n",
              "        <div style='font-size:75%; margin-bottom: 5px'>nm0000729</div>\n",
              "        <a href=\"https://www.imdb.com/name/nm0000729\" target=\"_blank\">\n",
              "            <img style=\"width: 100px; display: block; margin-left: auto; margin-right: auto;\" src=\"https://m.media-amazon.com/images/M/MV5BMTY3Nzc0MDg1OF5BMl5BanBnXkFtZTgwMzk5OTk2OTE@._V1_UY317_CR129,0,214,317_AL_.jpg\"/>\n",
              "        </a>\n",
              "    </div>\n",
              "    </div><div style=\"margin-left: 10px; float: left\">\n",
              "    <div style=\"width: 150px; text-align: center\">\n",
              "        <h4 style='margin-top: -5px'>Simon Crane</h4>\n",
              "        <div style='font-size:75%; margin-bottom: 5px'>nm0186426</div>\n",
              "        <a href=\"https://www.imdb.com/name/nm0186426\" target=\"_blank\">\n",
              "            <img style=\"width: 100px; display: block; margin-left: auto; margin-right: auto;\" src=\"https://m.media-amazon.com/images/M/MV5BMTQ3MDUwNjY4OF5BMl5BanBnXkFtZTgwNDM5NDYxMTE@._V1_UY317_CR30,0,214,317_AL_.jpg\"/>\n",
              "        </a>\n",
              "    </div>\n",
              "    </div><div style=\"margin-left: 10px; float: left\">\n",
              "    <div style=\"width: 150px; text-align: center\">\n",
              "        <h4 style='margin-top: -5px'>Lee Clow</h4>\n",
              "        <div style='font-size:75%; margin-bottom: 5px'>nm1676090</div>\n",
              "        <a href=\"https://www.imdb.com/name/nm1676090\" target=\"_blank\">\n",
              "            <img style=\"width: 100px; display: block; margin-left: auto; margin-right: auto;\" src=\"https://m.media-amazon.com/images/M/MV5BMTNmYTFhNDEtZmQwOC00ZTZhLWE4ZDEtOTIyZDk1NGNkMDMzXkEyXkFqcGdeQXVyMjE5MzM3MjA@._V1_UY317_CR409,0,214,317_AL_.jpg\"/>\n",
              "        </a>\n",
              "    </div>\n",
              "    </div><div style=\"margin-left: 10px; float: left\">\n",
              "    <div style=\"width: 150px; text-align: center\">\n",
              "        <h4 style='margin-top: -5px'>Joaquin Phoenix</h4>\n",
              "        <div style='font-size:75%; margin-bottom: 5px'>nm0001618</div>\n",
              "        <a href=\"https://www.imdb.com/name/nm0001618\" target=\"_blank\">\n",
              "            <img style=\"width: 100px; display: block; margin-left: auto; margin-right: auto;\" src=\"https://m.media-amazon.com/images/M/MV5BZGMyY2Q4NTEtMWVkZS00NzcwLTkzNmQtYzBlMWZhZGNhMDhkXkEyXkFqcGdeQXVyNjk1MjYyNTA@._V1_UX214_CR0,0,214,317_AL_.jpg\"/>\n",
              "        </a>\n",
              "    </div>\n",
              "    </div></div>"
            ],
            "text/plain": [
              "<IPython.core.display.HTML object>"
            ]
          },
          "metadata": {
            "tags": []
          }
        }
      ]
    },
    {
      "cell_type": "code",
      "metadata": {
        "id": "Zbs3UE3ADdbs",
        "colab": {
          "base_uri": "https://localhost:8080/",
          "height": 401
        },
        "outputId": "97599393-2a35-44a9-f11e-481f69f3b129"
      },
      "source": [
        "show_similars('nm0000206')"
      ],
      "execution_count": null,
      "outputs": [
        {
          "output_type": "display_data",
          "data": {
            "text/html": [
              "\n",
              "    <div style=\"width: 150px; text-align: center\">\n",
              "        <h4 style='margin-top: -5px'>Keanu Reeves</h4>\n",
              "        <div style='font-size:75%; margin-bottom: 5px'>nm0000206</div>\n",
              "        <a href=\"https://www.imdb.com/name/nm0000206\" target=\"_blank\">\n",
              "            <img style=\"width: 100px; display: block; margin-left: auto; margin-right: auto;\" src=\"https://m.media-amazon.com/images/M/MV5BYTkzODI4MDMtNDNmZC00NDZlLWFmNTktNDRhOWE2YzhlZTQ2XkEyXkFqcGdeQXVyMTE1MTYxNDAw._V1_UY317_CR19,0,214,317_AL_.jpg\"/>\n",
              "        </a>\n",
              "    </div>\n",
              "    "
            ],
            "text/plain": [
              "<IPython.core.display.HTML object>"
            ]
          },
          "metadata": {
            "tags": []
          }
        },
        {
          "output_type": "display_data",
          "data": {
            "text/html": [
              "<div style=\"width: 1800px\"><div style=\"margin-left: 10px; float: left\">\n",
              "    <div style=\"width: 150px; text-align: center\">\n",
              "        <h4 style='margin-top: -5px'>John J. Moers</h4>\n",
              "        <div style='font-size:75%; margin-bottom: 5px'>nm0595518</div>\n",
              "        <a href=\"https://www.imdb.com/name/nm0595518\" target=\"_blank\">\n",
              "            <img style=\"width: 100px; display: block; margin-left: auto; margin-right: auto;\" src=\"https://m.media-amazon.com/images/G/01/imdb/images/nopicture/medium/name-2135195744._CB466677935_.png\"/>\n",
              "        </a>\n",
              "    </div>\n",
              "    </div><div style=\"margin-left: 10px; float: left\">\n",
              "    <div style=\"width: 150px; text-align: center\">\n",
              "        <h4 style='margin-top: -5px'>Joel Silver</h4>\n",
              "        <div style='font-size:75%; margin-bottom: 5px'>nm0005428</div>\n",
              "        <a href=\"https://www.imdb.com/name/nm0005428\" target=\"_blank\">\n",
              "            <img style=\"width: 100px; display: block; margin-left: auto; margin-right: auto;\" src=\"https://m.media-amazon.com/images/M/MV5BMTQ3Njc2MjMwNl5BMl5BanBnXkFtZTgwNzY5NTY5ODE@._V1_UY317_CR130,0,214,317_AL_.jpg\"/>\n",
              "        </a>\n",
              "    </div>\n",
              "    </div><div style=\"margin-left: 10px; float: left\">\n",
              "    <div style=\"width: 150px; text-align: center\">\n",
              "        <h4 style='margin-top: -5px'>Karina Friend Buck</h4>\n",
              "        <div style='font-size:75%; margin-bottom: 5px'>nm0118383</div>\n",
              "        <a href=\"https://www.imdb.com/name/nm0118383\" target=\"_blank\">\n",
              "            <img style=\"width: 100px; display: block; margin-left: auto; margin-right: auto;\" src=\"https://m.media-amazon.com/images/G/01/imdb/images/nopicture/medium/name-2135195744._CB466677935_.png\"/>\n",
              "        </a>\n",
              "    </div>\n",
              "    </div><div style=\"margin-left: 10px; float: left\">\n",
              "    <div style=\"width: 150px; text-align: center\">\n",
              "        <h4 style='margin-top: -5px'>Nicolas Cage</h4>\n",
              "        <div style='font-size:75%; margin-bottom: 5px'>nm0000115</div>\n",
              "        <a href=\"https://www.imdb.com/name/nm0000115\" target=\"_blank\">\n",
              "            <img style=\"width: 100px; display: block; margin-left: auto; margin-right: auto;\" src=\"https://m.media-amazon.com/images/M/MV5BMjUxMjE4MTQxMF5BMl5BanBnXkFtZTcwNzc2MDM1NA@@._V1_UY317_CR9,0,214,317_AL_.jpg\"/>\n",
              "        </a>\n",
              "    </div>\n",
              "    </div><div style=\"margin-left: 10px; float: left\">\n",
              "    <div style=\"width: 150px; text-align: center\">\n",
              "        <h4 style='margin-top: -5px'>Lawrence Bender</h4>\n",
              "        <div style='font-size:75%; margin-bottom: 5px'>nm0004744</div>\n",
              "        <a href=\"https://www.imdb.com/name/nm0004744\" target=\"_blank\">\n",
              "            <img style=\"width: 100px; display: block; margin-left: auto; margin-right: auto;\" src=\"https://m.media-amazon.com/images/M/MV5BMjA3OTQzNjMwN15BMl5BanBnXkFtZTcwMTE3NjQxMw@@._V1_UY317_CR8,0,214,317_AL_.jpg\"/>\n",
              "        </a>\n",
              "    </div>\n",
              "    </div><div style=\"margin-left: 10px; float: left\">\n",
              "    <div style=\"width: 150px; text-align: center\">\n",
              "        <h4 style='margin-top: -5px'>Samuel L. Jackson</h4>\n",
              "        <div style='font-size:75%; margin-bottom: 5px'>nm0000168</div>\n",
              "        <a href=\"https://www.imdb.com/name/nm0000168\" target=\"_blank\">\n",
              "            <img style=\"width: 100px; display: block; margin-left: auto; margin-right: auto;\" src=\"https://m.media-amazon.com/images/M/MV5BMTQ1NTQwMTYxNl5BMl5BanBnXkFtZTYwMjA1MzY1._V1_UX214_CR0,0,214,317_AL_.jpg\"/>\n",
              "        </a>\n",
              "    </div>\n",
              "    </div><div style=\"margin-left: 10px; float: left\">\n",
              "    <div style=\"width: 150px; text-align: center\">\n",
              "        <h4 style='margin-top: -5px'>Sigourney Weaver</h4>\n",
              "        <div style='font-size:75%; margin-bottom: 5px'>nm0000244</div>\n",
              "        <a href=\"https://www.imdb.com/name/nm0000244\" target=\"_blank\">\n",
              "            <img style=\"width: 100px; display: block; margin-left: auto; margin-right: auto;\" src=\"https://m.media-amazon.com/images/M/MV5BMTk1MTcyNTE3OV5BMl5BanBnXkFtZTcwMTA0MTMyMw@@._V1_UY317_CR12,0,214,317_AL_.jpg\"/>\n",
              "        </a>\n",
              "    </div>\n",
              "    </div><div style=\"margin-left: 10px; float: left\">\n",
              "    <div style=\"width: 150px; text-align: center\">\n",
              "        <h4 style='margin-top: -5px'>Danny Elfman</h4>\n",
              "        <div style='font-size:75%; margin-bottom: 5px'>nm0000384</div>\n",
              "        <a href=\"https://www.imdb.com/name/nm0000384\" target=\"_blank\">\n",
              "            <img style=\"width: 100px; display: block; margin-left: auto; margin-right: auto;\" src=\"https://m.media-amazon.com/images/M/MV5BMTU4MTU0ODA0Nl5BMl5BanBnXkFtZTgwNTk1Njk3MjE@._V1_UX214_CR0,0,214,317_AL_.jpg\"/>\n",
              "        </a>\n",
              "    </div>\n",
              "    </div><div style=\"margin-left: 10px; float: left\">\n",
              "    <div style=\"width: 150px; text-align: center\">\n",
              "        <h4 style='margin-top: -5px'>Mark Rance</h4>\n",
              "        <div style='font-size:75%; margin-bottom: 5px'>nm0709411</div>\n",
              "        <a href=\"https://www.imdb.com/name/nm0709411\" target=\"_blank\">\n",
              "            <img style=\"width: 100px; display: block; margin-left: auto; margin-right: auto;\" src=\"https://m.media-amazon.com/images/G/01/imdb/images/nopicture/medium/name-2135195744._CB466677935_.png\"/>\n",
              "        </a>\n",
              "    </div>\n",
              "    </div><div style=\"margin-left: 10px; float: left\">\n",
              "    <div style=\"width: 150px; text-align: center\">\n",
              "        <h4 style='margin-top: -5px'>Thomas C. Grane</h4>\n",
              "        <div style='font-size:75%; margin-bottom: 5px'>nm0994529</div>\n",
              "        <a href=\"https://www.imdb.com/name/nm0994529\" target=\"_blank\">\n",
              "            <img style=\"width: 100px; display: block; margin-left: auto; margin-right: auto;\" src=\"https://m.media-amazon.com/images/G/01/imdb/images/nopicture/medium/name-2135195744._CB466677935_.png\"/>\n",
              "        </a>\n",
              "    </div>\n",
              "    </div></div>"
            ],
            "text/plain": [
              "<IPython.core.display.HTML object>"
            ]
          },
          "metadata": {
            "tags": []
          }
        }
      ]
    },
    {
      "cell_type": "code",
      "metadata": {
        "id": "psG-TY5-Ddbs",
        "colab": {
          "base_uri": "https://localhost:8080/",
          "height": 401
        },
        "outputId": "4368f2a7-f9fe-4484-d06c-5dffaf437595"
      },
      "source": [
        "show_similars('nm1089991')"
      ],
      "execution_count": null,
      "outputs": [
        {
          "output_type": "display_data",
          "data": {
            "text/html": [
              "\n",
              "    <div style=\"width: 150px; text-align: center\">\n",
              "        <h4 style='margin-top: -5px'>Tom Hiddleston</h4>\n",
              "        <div style='font-size:75%; margin-bottom: 5px'>nm1089991</div>\n",
              "        <a href=\"https://www.imdb.com/name/nm1089991\" target=\"_blank\">\n",
              "            <img style=\"width: 100px; display: block; margin-left: auto; margin-right: auto;\" src=\"https://m.media-amazon.com/images/M/MV5BNWYwODAyZjAtOTQ1My00MDY2LTg0NDQtZGFiMDRiYzY4ZmM2XkEyXkFqcGdeQXVyNjg2NjQwMDQ@._V1_UY317_CR9,0,214,317_AL_.jpg\"/>\n",
              "        </a>\n",
              "    </div>\n",
              "    "
            ],
            "text/plain": [
              "<IPython.core.display.HTML object>"
            ]
          },
          "metadata": {
            "tags": []
          }
        },
        {
          "output_type": "display_data",
          "data": {
            "text/html": [
              "<div style=\"width: 1800px\"><div style=\"margin-left: 10px; float: left\">\n",
              "    <div style=\"width: 150px; text-align: center\">\n",
              "        <h4 style='margin-top: -5px'>David Heyman</h4>\n",
              "        <div style='font-size:75%; margin-bottom: 5px'>nm0382268</div>\n",
              "        <a href=\"https://www.imdb.com/name/nm0382268\" target=\"_blank\">\n",
              "            <img style=\"width: 100px; display: block; margin-left: auto; margin-right: auto;\" src=\"https://m.media-amazon.com/images/M/MV5BMTYwNzE2MDgxM15BMl5BanBnXkFtZTcwMTIwMDY4NQ@@._V1_UY317_CR104,0,214,317_AL_.jpg\"/>\n",
              "        </a>\n",
              "    </div>\n",
              "    </div><div style=\"margin-left: 10px; float: left\">\n",
              "    <div style=\"width: 150px; text-align: center\">\n",
              "        <h4 style='margin-top: -5px'>Eric Fellner</h4>\n",
              "        <div style='font-size:75%; margin-bottom: 5px'>nm0271479</div>\n",
              "        <a href=\"https://www.imdb.com/name/nm0271479\" target=\"_blank\">\n",
              "            <img style=\"width: 100px; display: block; margin-left: auto; margin-right: auto;\" src=\"https://m.media-amazon.com/images/G/01/imdb/images/nopicture/medium/name-2135195744._CB466677935_.png\"/>\n",
              "        </a>\n",
              "    </div>\n",
              "    </div><div style=\"margin-left: 10px; float: left\">\n",
              "    <div style=\"width: 150px; text-align: center\">\n",
              "        <h4 style='margin-top: -5px'>Nicholas Hoult</h4>\n",
              "        <div style='font-size:75%; margin-bottom: 5px'>nm0396558</div>\n",
              "        <a href=\"https://www.imdb.com/name/nm0396558\" target=\"_blank\">\n",
              "            <img style=\"width: 100px; display: block; margin-left: auto; margin-right: auto;\" src=\"https://m.media-amazon.com/images/M/MV5BMTUxMTYxNzMzNF5BMl5BanBnXkFtZTcwMTU0NTcxOQ@@._V1_UY317_CR3,0,214,317_AL_.jpg\"/>\n",
              "        </a>\n",
              "    </div>\n",
              "    </div><div style=\"margin-left: 10px; float: left\">\n",
              "    <div style=\"width: 150px; text-align: center\">\n",
              "        <h4 style='margin-top: -5px'>Guy Ritchie</h4>\n",
              "        <div style='font-size:75%; margin-bottom: 5px'>nm0005363</div>\n",
              "        <a href=\"https://www.imdb.com/name/nm0005363\" target=\"_blank\">\n",
              "            <img style=\"width: 100px; display: block; margin-left: auto; margin-right: auto;\" src=\"https://m.media-amazon.com/images/M/MV5BMTM2NDkxMTcxMl5BMl5BanBnXkFtZTcwNTMyNjI5MQ@@._V1_UY317_CR8,0,214,317_AL_.jpg\"/>\n",
              "        </a>\n",
              "    </div>\n",
              "    </div><div style=\"margin-left: 10px; float: left\">\n",
              "    <div style=\"width: 150px; text-align: center\">\n",
              "        <h4 style='margin-top: -5px'>Sam Claflin</h4>\n",
              "        <div style='font-size:75%; margin-bottom: 5px'>nm3510471</div>\n",
              "        <a href=\"https://www.imdb.com/name/nm3510471\" target=\"_blank\">\n",
              "            <img style=\"width: 100px; display: block; margin-left: auto; margin-right: auto;\" src=\"https://m.media-amazon.com/images/M/MV5BMjI3MDQxNDUwOF5BMl5BanBnXkFtZTgwNjY4NjI3NjE@._V1_UX214_CR0,0,214,317_AL_.jpg\"/>\n",
              "        </a>\n",
              "    </div>\n",
              "    </div><div style=\"margin-left: 10px; float: left\">\n",
              "    <div style=\"width: 150px; text-align: center\">\n",
              "        <h4 style='margin-top: -5px'>Tim Bevan</h4>\n",
              "        <div style='font-size:75%; margin-bottom: 5px'>nm0079677</div>\n",
              "        <a href=\"https://www.imdb.com/name/nm0079677\" target=\"_blank\">\n",
              "            <img style=\"width: 100px; display: block; margin-left: auto; margin-right: auto;\" src=\"https://m.media-amazon.com/images/M/MV5BNzc0MjU5NTkzMl5BMl5BanBnXkFtZTcwNDgyNDk5Nw@@._V1_UY317_CR27,0,214,317_AL_.jpg\"/>\n",
              "        </a>\n",
              "    </div>\n",
              "    </div><div style=\"margin-left: 10px; float: left\">\n",
              "    <div style=\"width: 150px; text-align: center\">\n",
              "        <h4 style='margin-top: -5px'>Tom Hardy</h4>\n",
              "        <div style='font-size:75%; margin-bottom: 5px'>nm0362766</div>\n",
              "        <a href=\"https://www.imdb.com/name/nm0362766\" target=\"_blank\">\n",
              "            <img style=\"width: 100px; display: block; margin-left: auto; margin-right: auto;\" src=\"https://m.media-amazon.com/images/M/MV5BMTQ3ODEyNjA4Nl5BMl5BanBnXkFtZTgwMTE4ODMyMjE@._V1_UX214_CR0,0,214,317_AL_.jpg\"/>\n",
              "        </a>\n",
              "    </div>\n",
              "    </div><div style=\"margin-left: 10px; float: left\">\n",
              "    <div style=\"width: 150px; text-align: center\">\n",
              "        <h4 style='margin-top: -5px'>Stuart Craig</h4>\n",
              "        <div style='font-size:75%; margin-bottom: 5px'>nm0186023</div>\n",
              "        <a href=\"https://www.imdb.com/name/nm0186023\" target=\"_blank\">\n",
              "            <img style=\"width: 100px; display: block; margin-left: auto; margin-right: auto;\" src=\"https://m.media-amazon.com/images/M/MV5BMjExMjk4NTYwOF5BMl5BanBnXkFtZTcwNTE1OTYzNw@@._V1_UY317_CR8,0,214,317_AL_.jpg\"/>\n",
              "        </a>\n",
              "    </div>\n",
              "    </div><div style=\"margin-left: 10px; float: left\">\n",
              "    <div style=\"width: 150px; text-align: center\">\n",
              "        <h4 style='margin-top: -5px'>James McAvoy</h4>\n",
              "        <div style='font-size:75%; margin-bottom: 5px'>nm0564215</div>\n",
              "        <a href=\"https://www.imdb.com/name/nm0564215\" target=\"_blank\">\n",
              "            <img style=\"width: 100px; display: block; margin-left: auto; margin-right: auto;\" src=\"https://m.media-amazon.com/images/M/MV5BMTQzNzIxOTYzMl5BMl5BanBnXkFtZTcwNjYxNTk1Nw@@._V1_UY317_CR14,0,214,317_AL_.jpg\"/>\n",
              "        </a>\n",
              "    </div>\n",
              "    </div><div style=\"margin-left: 10px; float: left\">\n",
              "    <div style=\"width: 150px; text-align: center\">\n",
              "        <h4 style='margin-top: -5px'>Andrew Garfield</h4>\n",
              "        <div style='font-size:75%; margin-bottom: 5px'>nm1940449</div>\n",
              "        <a href=\"https://www.imdb.com/name/nm1940449\" target=\"_blank\">\n",
              "            <img style=\"width: 100px; display: block; margin-left: auto; margin-right: auto;\" src=\"https://m.media-amazon.com/images/M/MV5BMjE2MjI2OTk1OV5BMl5BanBnXkFtZTgwNTY1NzM4MDI@._V1_UY317_CR0,0,214,317_AL_.jpg\"/>\n",
              "        </a>\n",
              "    </div>\n",
              "    </div></div>"
            ],
            "text/plain": [
              "<IPython.core.display.HTML object>"
            ]
          },
          "metadata": {
            "tags": []
          }
        }
      ]
    },
    {
      "cell_type": "code",
      "metadata": {
        "id": "C29jVLeaDdbs",
        "colab": {
          "base_uri": "https://localhost:8080/",
          "height": 401
        },
        "outputId": "04010015-9cba-4d1b-ee89-e8c775c52ca3"
      },
      "source": [
        "show_similars('nm1297015')"
      ],
      "execution_count": null,
      "outputs": [
        {
          "output_type": "display_data",
          "data": {
            "text/html": [
              "\n",
              "    <div style=\"width: 150px; text-align: center\">\n",
              "        <h4 style='margin-top: -5px'>Emma Stone</h4>\n",
              "        <div style='font-size:75%; margin-bottom: 5px'>nm1297015</div>\n",
              "        <a href=\"https://www.imdb.com/name/nm1297015\" target=\"_blank\">\n",
              "            <img style=\"width: 100px; display: block; margin-left: auto; margin-right: auto;\" src=\"https://m.media-amazon.com/images/M/MV5BMjI4NjM1NDkyN15BMl5BanBnXkFtZTgwODgyNTY1MjE@._V1_UX214_CR0,0,214,317_AL_.jpg\"/>\n",
              "        </a>\n",
              "    </div>\n",
              "    "
            ],
            "text/plain": [
              "<IPython.core.display.HTML object>"
            ]
          },
          "metadata": {
            "tags": []
          }
        },
        {
          "output_type": "display_data",
          "data": {
            "text/html": [
              "<div style=\"width: 1800px\"><div style=\"margin-left: 10px; float: left\">\n",
              "    <div style=\"width: 150px; text-align: center\">\n",
              "        <h4 style='margin-top: -5px'>Channing Tatum</h4>\n",
              "        <div style='font-size:75%; margin-bottom: 5px'>nm1475594</div>\n",
              "        <a href=\"https://www.imdb.com/name/nm1475594\" target=\"_blank\">\n",
              "            <img style=\"width: 100px; display: block; margin-left: auto; margin-right: auto;\" src=\"https://m.media-amazon.com/images/M/MV5BMTUyOTc2NTEwNV5BMl5BanBnXkFtZTgwNDgxMjMxNjE@._V1_UY317_CR59,0,214,317_AL_.jpg\"/>\n",
              "        </a>\n",
              "    </div>\n",
              "    </div><div style=\"margin-left: 10px; float: left\">\n",
              "    <div style=\"width: 150px; text-align: center\">\n",
              "        <h4 style='margin-top: -5px'>Tom Holland</h4>\n",
              "        <div style='font-size:75%; margin-bottom: 5px'>nm4043618</div>\n",
              "        <a href=\"https://www.imdb.com/name/nm4043618\" target=\"_blank\">\n",
              "            <img style=\"width: 100px; display: block; margin-left: auto; margin-right: auto;\" src=\"https://m.media-amazon.com/images/M/MV5BNzZiNTEyNTItYjNhMS00YjI2LWIwMWQtZmYwYTRlNjMyZTJjXkEyXkFqcGdeQXVyMTExNzQzMDE0._V1_UX214_CR0,0,214,317_AL_.jpg\"/>\n",
              "        </a>\n",
              "    </div>\n",
              "    </div><div style=\"margin-left: 10px; float: left\">\n",
              "    <div style=\"width: 150px; text-align: center\">\n",
              "        <h4 style='margin-top: -5px'>Jonah Hill</h4>\n",
              "        <div style='font-size:75%; margin-bottom: 5px'>nm1706767</div>\n",
              "        <a href=\"https://www.imdb.com/name/nm1706767\" target=\"_blank\">\n",
              "            <img style=\"width: 100px; display: block; margin-left: auto; margin-right: auto;\" src=\"https://m.media-amazon.com/images/M/MV5BMTUyNDU0NzAwNl5BMl5BanBnXkFtZTcwMzQxMzIzNw@@._V1_UY317_CR28,0,214,317_AL_.jpg\"/>\n",
              "        </a>\n",
              "    </div>\n",
              "    </div><div style=\"margin-left: 10px; float: left\">\n",
              "    <div style=\"width: 150px; text-align: center\">\n",
              "        <h4 style='margin-top: -5px'>Lynn Hirschberg</h4>\n",
              "        <div style='font-size:75%; margin-bottom: 5px'>nm4632914</div>\n",
              "        <a href=\"https://www.imdb.com/name/nm4632914\" target=\"_blank\">\n",
              "            <img style=\"width: 100px; display: block; margin-left: auto; margin-right: auto;\" src=\"https://m.media-amazon.com/images/G/01/imdb/images/nopicture/medium/name-2135195744._CB466677935_.png\"/>\n",
              "        </a>\n",
              "    </div>\n",
              "    </div><div style=\"margin-left: 10px; float: left\">\n",
              "    <div style=\"width: 150px; text-align: center\">\n",
              "        <h4 style='margin-top: -5px'>Evan T. Cohen</h4>\n",
              "        <div style='font-size:75%; margin-bottom: 5px'>nm0169372</div>\n",
              "        <a href=\"https://www.imdb.com/name/nm0169372\" target=\"_blank\">\n",
              "            <img style=\"width: 100px; display: block; margin-left: auto; margin-right: auto;\" src=\"https://m.media-amazon.com/images/G/01/imdb/images/nopicture/medium/name-2135195744._CB466677935_.png\"/>\n",
              "        </a>\n",
              "    </div>\n",
              "    </div><div style=\"margin-left: 10px; float: left\">\n",
              "    <div style=\"width: 150px; text-align: center\">\n",
              "        <h4 style='margin-top: -5px'>Amanda Seyfried</h4>\n",
              "        <div style='font-size:75%; margin-bottom: 5px'>nm1086543</div>\n",
              "        <a href=\"https://www.imdb.com/name/nm1086543\" target=\"_blank\">\n",
              "            <img style=\"width: 100px; display: block; margin-left: auto; margin-right: auto;\" src=\"https://m.media-amazon.com/images/M/MV5BMTYwMDYyMDY5Nl5BMl5BanBnXkFtZTcwODkyMjY5Ng@@._V1_UX214_CR0,0,214,317_AL_.jpg\"/>\n",
              "        </a>\n",
              "    </div>\n",
              "    </div><div style=\"margin-left: 10px; float: left\">\n",
              "    <div style=\"width: 150px; text-align: center\">\n",
              "        <h4 style='margin-top: -5px'>Owen Wilson</h4>\n",
              "        <div style='font-size:75%; margin-bottom: 5px'>nm0005562</div>\n",
              "        <a href=\"https://www.imdb.com/name/nm0005562\" target=\"_blank\">\n",
              "            <img style=\"width: 100px; display: block; margin-left: auto; margin-right: auto;\" src=\"https://m.media-amazon.com/images/M/MV5BMTgwMzQ4ODYxMV5BMl5BanBnXkFtZTcwNDAwMTc2NQ@@._V1_UX214_CR0,0,214,317_AL_.jpg\"/>\n",
              "        </a>\n",
              "    </div>\n",
              "    </div><div style=\"margin-left: 10px; float: left\">\n",
              "    <div style=\"width: 150px; text-align: center\">\n",
              "        <h4 style='margin-top: -5px'>Jenno Topping</h4>\n",
              "        <div style='font-size:75%; margin-bottom: 5px'>nm0867768</div>\n",
              "        <a href=\"https://www.imdb.com/name/nm0867768\" target=\"_blank\">\n",
              "            <img style=\"width: 100px; display: block; margin-left: auto; margin-right: auto;\" src=\"https://m.media-amazon.com/images/M/MV5BNjYwMDkxN2UtNTA2Ny00MTE3LWJmOTYtNzBlMTk2NTkzMzZkXkEyXkFqcGdeQXVyMDM2NDM2MQ@@._V1_UX214_CR0,0,214,317_AL_.jpg\"/>\n",
              "        </a>\n",
              "    </div>\n",
              "    </div><div style=\"margin-left: 10px; float: left\">\n",
              "    <div style=\"width: 150px; text-align: center\">\n",
              "        <h4 style='margin-top: -5px'>Liam Hemsworth</h4>\n",
              "        <div style='font-size:75%; margin-bottom: 5px'>nm2955013</div>\n",
              "        <a href=\"https://www.imdb.com/name/nm2955013\" target=\"_blank\">\n",
              "            <img style=\"width: 100px; display: block; margin-left: auto; margin-right: auto;\" src=\"https://m.media-amazon.com/images/M/MV5BMTQ5ODI0MDc4M15BMl5BanBnXkFtZTgwNTM5MDk3MTE@._V1_UX214_CR0,0,214,317_AL_.jpg\"/>\n",
              "        </a>\n",
              "    </div>\n",
              "    </div><div style=\"margin-left: 10px; float: left\">\n",
              "    <div style=\"width: 150px; text-align: center\">\n",
              "        <h4 style='margin-top: -5px'>Anna Kendrick</h4>\n",
              "        <div style='font-size:75%; margin-bottom: 5px'>nm0447695</div>\n",
              "        <a href=\"https://www.imdb.com/name/nm0447695\" target=\"_blank\">\n",
              "            <img style=\"width: 100px; display: block; margin-left: auto; margin-right: auto;\" src=\"https://m.media-amazon.com/images/M/MV5BMjIzOTA0OTQyN15BMl5BanBnXkFtZTcwMjE1OTIwMw@@._V1_UY317_CR5,0,214,317_AL_.jpg\"/>\n",
              "        </a>\n",
              "    </div>\n",
              "    </div></div>"
            ],
            "text/plain": [
              "<IPython.core.display.HTML object>"
            ]
          },
          "metadata": {
            "tags": []
          }
        }
      ]
    },
    {
      "cell_type": "markdown",
      "metadata": {
        "id": "3ovyR59dzefA"
      },
      "source": [
        "Nice to see that results seem to make a lot of sense in most cases :) Let's now look for a random actor/actress. If our model is coherent, we should get other random not well-known people in return."
      ]
    },
    {
      "cell_type": "code",
      "metadata": {
        "id": "FSzTN7e0Ddbt"
      },
      "source": [
        "random_actor = random.sample(list(principals.nconst.unique()), 1)[0]"
      ],
      "execution_count": null,
      "outputs": []
    },
    {
      "cell_type": "code",
      "metadata": {
        "colab": {
          "base_uri": "https://localhost:8080/",
          "height": 388
        },
        "id": "Tb2-HxwB0MWS",
        "outputId": "5a5ab8e3-3e67-4b96-a7fb-ceada7226e1e"
      },
      "source": [
        "show_similars(random_actor)"
      ],
      "execution_count": null,
      "outputs": [
        {
          "output_type": "display_data",
          "data": {
            "text/html": [
              "\n",
              "    <div style=\"width: 150px; text-align: center\">\n",
              "        <h4 style='margin-top: -5px'>Trent Nakamura</h4>\n",
              "        <div style='font-size:75%; margin-bottom: 5px'>nm5052477</div>\n",
              "        <a href=\"https://www.imdb.com/name/nm5052477\" target=\"_blank\">\n",
              "            <img style=\"width: 100px; display: block; margin-left: auto; margin-right: auto;\" src=\"https://m.media-amazon.com/images/G/01/imdb/images/nopicture/medium/name-2135195744._CB466677935_.png\"/>\n",
              "        </a>\n",
              "    </div>\n",
              "    "
            ],
            "text/plain": [
              "<IPython.core.display.HTML object>"
            ]
          },
          "metadata": {
            "tags": []
          }
        },
        {
          "output_type": "display_data",
          "data": {
            "text/html": [
              "<div style=\"width: 1800px\"><div style=\"margin-left: 10px; float: left\">\n",
              "    <div style=\"width: 150px; text-align: center\">\n",
              "        <h4 style='margin-top: -5px'>Jacob Michael Keller</h4>\n",
              "        <div style='font-size:75%; margin-bottom: 5px'>nm1782639</div>\n",
              "        <a href=\"https://www.imdb.com/name/nm1782639\" target=\"_blank\">\n",
              "            <img style=\"width: 100px; display: block; margin-left: auto; margin-right: auto;\" src=\"https://m.media-amazon.com/images/G/01/imdb/images/nopicture/medium/name-2135195744._CB466677935_.png\"/>\n",
              "        </a>\n",
              "    </div>\n",
              "    </div><div style=\"margin-left: 10px; float: left\">\n",
              "    <div style=\"width: 150px; text-align: center\">\n",
              "        <h4 style='margin-top: -5px'>Liisa Evastina</h4>\n",
              "        <div style='font-size:75%; margin-bottom: 5px'>nm1436451</div>\n",
              "        <a href=\"https://www.imdb.com/name/nm1436451\" target=\"_blank\">\n",
              "            <img style=\"width: 100px; display: block; margin-left: auto; margin-right: auto;\" src=\"https://m.media-amazon.com/images/M/MV5BYWQyNzczNjAtNjYyMC00OGVkLWIwZDAtZjRhYTRlZWYzYWI5XkEyXkFqcGdeQXVyMjQwMDg0Ng@@._V1_UX214_CR0,0,214,317_AL_.jpg\"/>\n",
              "        </a>\n",
              "    </div>\n",
              "    </div><div style=\"margin-left: 10px; float: left\">\n",
              "    <div style=\"width: 150px; text-align: center\">\n",
              "        <h4 style='margin-top: -5px'>Lauren Poole</h4>\n",
              "        <div style='font-size:75%; margin-bottom: 5px'>nm5311923</div>\n",
              "        <a href=\"https://www.imdb.com/name/nm5311923\" target=\"_blank\">\n",
              "            <img style=\"width: 100px; display: block; margin-left: auto; margin-right: auto;\" src=\"https://m.media-amazon.com/images/G/01/imdb/images/nopicture/medium/name-2135195744._CB466677935_.png\"/>\n",
              "        </a>\n",
              "    </div>\n",
              "    </div><div style=\"margin-left: 10px; float: left\">\n",
              "    <div style=\"width: 150px; text-align: center\">\n",
              "        <h4 style='margin-top: -5px'>Jessica Jones</h4>\n",
              "        <div style='font-size:75%; margin-bottom: 5px'>nm5281097</div>\n",
              "        <a href=\"https://www.imdb.com/name/nm5281097\" target=\"_blank\">\n",
              "            <img style=\"width: 100px; display: block; margin-left: auto; margin-right: auto;\" src=\"https://m.media-amazon.com/images/M/MV5BOWRkMDlkNzYtMjQxNi00YzUwLTlkOTItOWE4NTA2NTI4NTA5XkEyXkFqcGdeQXVyMjQwMDg0Ng@@._V1_UX214_CR0,0,214,317_AL_.jpg\"/>\n",
              "        </a>\n",
              "    </div>\n",
              "    </div><div style=\"margin-left: 10px; float: left\">\n",
              "    <div style=\"width: 150px; text-align: center\">\n",
              "        <h4 style='margin-top: -5px'>John O.S. Houston</h4>\n",
              "        <div style='font-size:75%; margin-bottom: 5px'>nm6003838</div>\n",
              "        <a href=\"https://www.imdb.com/name/nm6003838\" target=\"_blank\">\n",
              "            <img style=\"width: 100px; display: block; margin-left: auto; margin-right: auto;\" src=\"https://m.media-amazon.com/images/M/MV5BMGU1Zjk0ODgtNGUzYi00ODA4LWJhYzAtMDYzZGM2YmRiODIzXkEyXkFqcGdeQXVyMTEwMjI2ODc3._V1_UY317_CR51,0,214,317_AL_.jpg\"/>\n",
              "        </a>\n",
              "    </div>\n",
              "    </div><div style=\"margin-left: 10px; float: left\">\n",
              "    <div style=\"width: 150px; text-align: center\">\n",
              "        <h4 style='margin-top: -5px'>Saxon Kincy</h4>\n",
              "        <div style='font-size:75%; margin-bottom: 5px'>nm8280807</div>\n",
              "        <a href=\"https://www.imdb.com/name/nm8280807\" target=\"_blank\">\n",
              "            <img style=\"width: 100px; display: block; margin-left: auto; margin-right: auto;\" src=\"https://m.media-amazon.com/images/G/01/imdb/images/nopicture/medium/name-2135195744._CB466677935_.png\"/>\n",
              "        </a>\n",
              "    </div>\n",
              "    </div><div style=\"margin-left: 10px; float: left\">\n",
              "    <div style=\"width: 150px; text-align: center\">\n",
              "        <h4 style='margin-top: -5px'>Joseph Anzalone</h4>\n",
              "        <div style='font-size:75%; margin-bottom: 5px'>nm5401729</div>\n",
              "        <a href=\"https://www.imdb.com/name/nm5401729\" target=\"_blank\">\n",
              "            <img style=\"width: 100px; display: block; margin-left: auto; margin-right: auto;\" src=\"https://m.media-amazon.com/images/G/01/imdb/images/nopicture/medium/name-2135195744._CB466677935_.png\"/>\n",
              "        </a>\n",
              "    </div>\n",
              "    </div><div style=\"margin-left: 10px; float: left\">\n",
              "    <div style=\"width: 150px; text-align: center\">\n",
              "        <h4 style='margin-top: -5px'>Cristina Guzmán</h4>\n",
              "        <div style='font-size:75%; margin-bottom: 5px'>nm4976230</div>\n",
              "        <a href=\"https://www.imdb.com/name/nm4976230\" target=\"_blank\">\n",
              "            <img style=\"width: 100px; display: block; margin-left: auto; margin-right: auto;\" src=\"https://m.media-amazon.com/images/G/01/imdb/images/nopicture/medium/name-2135195744._CB466677935_.png\"/>\n",
              "        </a>\n",
              "    </div>\n",
              "    </div><div style=\"margin-left: 10px; float: left\">\n",
              "    <div style=\"width: 150px; text-align: center\">\n",
              "        <h4 style='margin-top: -5px'>Alex Hitchens</h4>\n",
              "        <div style='font-size:75%; margin-bottom: 5px'>nm6140871</div>\n",
              "        <a href=\"https://www.imdb.com/name/nm6140871\" target=\"_blank\">\n",
              "            <img style=\"width: 100px; display: block; margin-left: auto; margin-right: auto;\" src=\"https://m.media-amazon.com/images/G/01/imdb/images/nopicture/medium/name-2135195744._CB466677935_.png\"/>\n",
              "        </a>\n",
              "    </div>\n",
              "    </div><div style=\"margin-left: 10px; float: left\">\n",
              "    <div style=\"width: 150px; text-align: center\">\n",
              "        <h4 style='margin-top: -5px'>Elyté Salna</h4>\n",
              "        <div style='font-size:75%; margin-bottom: 5px'>nm2980169</div>\n",
              "        <a href=\"https://www.imdb.com/name/nm2980169\" target=\"_blank\">\n",
              "            <img style=\"width: 100px; display: block; margin-left: auto; margin-right: auto;\" src=\"https://m.media-amazon.com/images/G/01/imdb/images/nopicture/medium/name-2135195744._CB466677935_.png\"/>\n",
              "        </a>\n",
              "    </div>\n",
              "    </div></div>"
            ],
            "text/plain": [
              "<IPython.core.display.HTML object>"
            ]
          },
          "metadata": {
            "tags": []
          }
        }
      ]
    },
    {
      "cell_type": "markdown",
      "metadata": {
        "id": "MBaHYkfZ01zg"
      },
      "source": [
        "Indeed, we get a bunch of random unknown people, just as we hoped."
      ]
    },
    {
      "cell_type": "markdown",
      "metadata": {
        "id": "r7tcYDlJ1IDa"
      },
      "source": [
        "Looking at the vectors themselves make little sense to humans. But they do appear to make sense to a computer. Here's for example how Di Caprio's vector looks like:"
      ]
    },
    {
      "cell_type": "code",
      "metadata": {
        "id": "V9P_a_-3Ddbt",
        "colab": {
          "base_uri": "https://localhost:8080/"
        },
        "outputId": "295c5c3f-c64b-4e00-b9e7-a28148f82eae"
      },
      "source": [
        "wtv.wv['nm0000138']"
      ],
      "execution_count": null,
      "outputs": [
        {
          "output_type": "execute_result",
          "data": {
            "text/plain": [
              "array([ 0.2580304 , -0.66913676, -1.2732809 , -0.8057905 ,  0.44032094,\n",
              "       -0.48130265, -1.1735309 , -0.30094367, -2.1865425 ,  0.539852  ,\n",
              "       -1.8611125 , -0.4508392 ,  0.41736978,  0.641328  , -1.1822482 ,\n",
              "       -1.1135494 , -1.4869791 ,  1.238677  , -0.545832  ,  0.69036996,\n",
              "        2.282117  ,  0.12582017,  0.4888337 , -1.2242796 , -0.24009012,\n",
              "        0.7273605 , -0.32881492,  1.055785  ,  2.1439772 , -0.9506904 ,\n",
              "        0.3051441 ,  1.2152051 , -1.9529264 ,  0.4441434 , -0.93215567,\n",
              "        2.293564  ,  1.2437452 , -0.9667633 , -1.5158325 ,  0.5195707 ,\n",
              "        0.22579722,  0.32820278,  1.4134562 ,  0.3232375 ,  1.4170094 ,\n",
              "       -0.39107582, -1.1989847 ,  0.8313034 , -1.2659988 , -0.0818631 ,\n",
              "        1.9499799 ,  0.89772964, -0.5979264 ,  1.2365289 , -0.9876877 ,\n",
              "        0.37904605,  0.12605576, -0.27065802,  0.29705545, -1.5633304 ,\n",
              "       -0.87470645, -0.18089887, -1.3299501 , -0.78592   , -1.3334956 ,\n",
              "        0.6081005 ,  0.85708207, -1.3292736 , -0.87474406,  0.51196843,\n",
              "        0.6663763 ,  0.71622443,  0.28703567,  0.5008991 ,  1.5802574 ,\n",
              "        0.5561004 ,  1.356243  ,  0.04715981, -0.3515332 ,  1.4852083 ,\n",
              "        0.2934122 ,  1.115532  , -0.00314867,  0.5141518 ,  1.3929895 ,\n",
              "       -0.02218026,  0.79087824, -1.0179503 ,  0.9825294 , -0.592306  ,\n",
              "       -0.78344613, -0.48697883, -0.5952073 , -0.07430459,  0.29141176,\n",
              "        1.1430728 , -0.18454608, -0.9703676 ,  1.3439994 , -1.8491925 ],\n",
              "      dtype=float32)"
            ]
          },
          "metadata": {
            "tags": []
          },
          "execution_count": 25
        }
      ]
    },
    {
      "cell_type": "markdown",
      "metadata": {
        "id": "RNa8bYyl1fdU"
      },
      "source": [
        "doesn't match returns which element from a list is the one that does not belong in the group. It computes the mean of all vectors and then returns the one who is furthest away from this mean."
      ]
    },
    {
      "cell_type": "code",
      "metadata": {
        "id": "XdsvSuWpDdbt"
      },
      "source": [
        "def who_doesnt_match(person1, person2, person3, person4):\n",
        "    \n",
        "    p1 = str(person1); p2=str(person2); p3=str(person3); p4=str(person4); \n",
        "    result = wtv.wv.doesnt_match([p1, p2, p3, p4])\n",
        "    \n",
        "    if result in wtv.wv: \n",
        "        display(HTML(render_person(result)))"
      ],
      "execution_count": null,
      "outputs": []
    },
    {
      "cell_type": "markdown",
      "metadata": {
        "id": "iPzMxiV21yGd"
      },
      "source": [
        "### Fame"
      ]
    },
    {
      "cell_type": "markdown",
      "metadata": {
        "id": "lgCEtkcK175h"
      },
      "source": [
        "Here we try three random actors/actresses and a famous one, who should be the one that does not belong if our model is capturing \"fame\" correctly hidden in those mysterious numbers of the vectors."
      ]
    },
    {
      "cell_type": "code",
      "metadata": {
        "id": "k0JfKGzMDdbt"
      },
      "source": [
        "angelina_jolie= 'nm0001401'\n",
        "sean_penn = 'nm0000576'\n",
        "ryan_gosling = 'nm0331516'\n",
        "random1 = random.sample(list(principals.nconst.unique()), 1)[0]\n",
        "random2 = random.sample(list(principals.nconst.unique()), 1)[0]\n",
        "random3 = random.sample(list(principals.nconst.unique()), 1)[0]"
      ],
      "execution_count": null,
      "outputs": []
    },
    {
      "cell_type": "code",
      "metadata": {
        "id": "JM-fdOaBDdbt",
        "colab": {
          "base_uri": "https://localhost:8080/"
        },
        "outputId": "09e5496e-4c39-42f3-e595-13a7b62b8d8d"
      },
      "source": [
        "print(random1, random2, random3)"
      ],
      "execution_count": null,
      "outputs": [
        {
          "output_type": "stream",
          "text": [
            "nm8924108 nm0772925 nm0005870\n"
          ],
          "name": "stdout"
        }
      ]
    },
    {
      "cell_type": "code",
      "metadata": {
        "id": "NqCwk0knDdbu",
        "colab": {
          "base_uri": "https://localhost:8080/",
          "height": 253
        },
        "outputId": "71343823-c4be-4284-c265-e7ddf2c8ff6d"
      },
      "source": [
        "who_doesnt_match(angelina_jolie, random1, random2, random3)"
      ],
      "execution_count": null,
      "outputs": [
        {
          "output_type": "stream",
          "text": [
            "/usr/local/lib/python3.7/dist-packages/gensim/models/keyedvectors.py:895: FutureWarning: arrays to stack must be passed as a \"sequence\" type such as list or tuple. Support for non-sequence iterables such as generators is deprecated as of NumPy 1.16 and will raise an error in the future.\n",
            "  vectors = vstack(self.word_vec(word, use_norm=True) for word in used_words).astype(REAL)\n"
          ],
          "name": "stderr"
        },
        {
          "output_type": "display_data",
          "data": {
            "text/html": [
              "\n",
              "    <div style=\"width: 150px; text-align: center\">\n",
              "        <h4 style='margin-top: -5px'>Angelina Jolie</h4>\n",
              "        <div style='font-size:75%; margin-bottom: 5px'>nm0001401</div>\n",
              "        <a href=\"https://www.imdb.com/name/nm0001401\" target=\"_blank\">\n",
              "            <img style=\"width: 100px; display: block; margin-left: auto; margin-right: auto;\" src=\"https://m.media-amazon.com/images/M/MV5BODg3MzYwMjE4N15BMl5BanBnXkFtZTcwMjU5NzAzNw@@._V1_UY317_CR22,0,214,317_AL_.jpg\"/>\n",
              "        </a>\n",
              "    </div>\n",
              "    "
            ],
            "text/plain": [
              "<IPython.core.display.HTML object>"
            ]
          },
          "metadata": {
            "tags": []
          }
        }
      ]
    },
    {
      "cell_type": "code",
      "metadata": {
        "id": "eJjH5kqBDdbu",
        "colab": {
          "base_uri": "https://localhost:8080/",
          "height": 253
        },
        "outputId": "71d6bf81-6f19-4a90-e234-14a20e331bbb"
      },
      "source": [
        "who_doesnt_match(sean_penn, random1, random2, random3)"
      ],
      "execution_count": null,
      "outputs": [
        {
          "output_type": "stream",
          "text": [
            "/usr/local/lib/python3.7/dist-packages/gensim/models/keyedvectors.py:895: FutureWarning: arrays to stack must be passed as a \"sequence\" type such as list or tuple. Support for non-sequence iterables such as generators is deprecated as of NumPy 1.16 and will raise an error in the future.\n",
            "  vectors = vstack(self.word_vec(word, use_norm=True) for word in used_words).astype(REAL)\n"
          ],
          "name": "stderr"
        },
        {
          "output_type": "display_data",
          "data": {
            "text/html": [
              "\n",
              "    <div style=\"width: 150px; text-align: center\">\n",
              "        <h4 style='margin-top: -5px'>Sean Penn</h4>\n",
              "        <div style='font-size:75%; margin-bottom: 5px'>nm0000576</div>\n",
              "        <a href=\"https://www.imdb.com/name/nm0000576\" target=\"_blank\">\n",
              "            <img style=\"width: 100px; display: block; margin-left: auto; margin-right: auto;\" src=\"https://m.media-amazon.com/images/M/MV5BMTc1NjMzMjY3NF5BMl5BanBnXkFtZTcwMzkxNjQzMg@@._V1_UY317_CR1,0,214,317_AL_.jpg\"/>\n",
              "        </a>\n",
              "    </div>\n",
              "    "
            ],
            "text/plain": [
              "<IPython.core.display.HTML object>"
            ]
          },
          "metadata": {
            "tags": []
          }
        }
      ]
    },
    {
      "cell_type": "code",
      "metadata": {
        "id": "FM_6FAgKDdbu",
        "colab": {
          "base_uri": "https://localhost:8080/",
          "height": 253
        },
        "outputId": "6655b326-8047-45c0-e125-cdfdc3938103"
      },
      "source": [
        "who_doesnt_match(ryan_gosling, random1, random2, random3)"
      ],
      "execution_count": null,
      "outputs": [
        {
          "output_type": "stream",
          "text": [
            "/usr/local/lib/python3.7/dist-packages/gensim/models/keyedvectors.py:895: FutureWarning: arrays to stack must be passed as a \"sequence\" type such as list or tuple. Support for non-sequence iterables such as generators is deprecated as of NumPy 1.16 and will raise an error in the future.\n",
            "  vectors = vstack(self.word_vec(word, use_norm=True) for word in used_words).astype(REAL)\n"
          ],
          "name": "stderr"
        },
        {
          "output_type": "display_data",
          "data": {
            "text/html": [
              "\n",
              "    <div style=\"width: 150px; text-align: center\">\n",
              "        <h4 style='margin-top: -5px'>Ryan Gosling</h4>\n",
              "        <div style='font-size:75%; margin-bottom: 5px'>nm0331516</div>\n",
              "        <a href=\"https://www.imdb.com/name/nm0331516\" target=\"_blank\">\n",
              "            <img style=\"width: 100px; display: block; margin-left: auto; margin-right: auto;\" src=\"https://m.media-amazon.com/images/M/MV5BMTQzMjkwNTQ2OF5BMl5BanBnXkFtZTgwNTQ4MTQ4MTE@._V1_UY317_CR18,0,214,317_AL_.jpg\"/>\n",
              "        </a>\n",
              "    </div>\n",
              "    "
            ],
            "text/plain": [
              "<IPython.core.display.HTML object>"
            ]
          },
          "metadata": {
            "tags": []
          }
        }
      ]
    },
    {
      "cell_type": "markdown",
      "metadata": {
        "id": "LACzTLRD2XCQ"
      },
      "source": [
        "This model is pretty good at differentiating famous actors from the rest."
      ]
    },
    {
      "cell_type": "markdown",
      "metadata": {
        "id": "gxXeiq2b2bLe"
      },
      "source": [
        "### Age"
      ]
    },
    {
      "cell_type": "markdown",
      "metadata": {
        "id": "vcQXZygS23fV"
      },
      "source": [
        "Now we take three new young stars and one star from the past. "
      ]
    },
    {
      "cell_type": "code",
      "metadata": {
        "id": "IE9DfRfmDdbu"
      },
      "source": [
        "paul_newman = 'nm0000056'\n",
        "joseph_gordon_levitt = 'nm0330687'\n",
        "jennifer_lawrence = 'nm2225369'\n",
        "rooney_mara = 'nm1913734'"
      ],
      "execution_count": null,
      "outputs": []
    },
    {
      "cell_type": "code",
      "metadata": {
        "id": "G6wywWk_Ddbu",
        "colab": {
          "base_uri": "https://localhost:8080/",
          "height": 253
        },
        "outputId": "e816d7a8-6c65-40a1-8706-444fe74c536e"
      },
      "source": [
        "who_doesnt_match(paul_newman, joseph_gordon_levitt, jennifer_lawrence, rooney_mara)"
      ],
      "execution_count": null,
      "outputs": [
        {
          "output_type": "stream",
          "text": [
            "/usr/local/lib/python3.7/dist-packages/gensim/models/keyedvectors.py:895: FutureWarning: arrays to stack must be passed as a \"sequence\" type such as list or tuple. Support for non-sequence iterables such as generators is deprecated as of NumPy 1.16 and will raise an error in the future.\n",
            "  vectors = vstack(self.word_vec(word, use_norm=True) for word in used_words).astype(REAL)\n"
          ],
          "name": "stderr"
        },
        {
          "output_type": "display_data",
          "data": {
            "text/html": [
              "\n",
              "    <div style=\"width: 150px; text-align: center\">\n",
              "        <h4 style='margin-top: -5px'>Paul Newman</h4>\n",
              "        <div style='font-size:75%; margin-bottom: 5px'>nm0000056</div>\n",
              "        <a href=\"https://www.imdb.com/name/nm0000056\" target=\"_blank\">\n",
              "            <img style=\"width: 100px; display: block; margin-left: auto; margin-right: auto;\" src=\"https://m.media-amazon.com/images/M/MV5BODUwMDYwNDg3N15BMl5BanBnXkFtZTcwODEzNTgxMw@@._V1_UY317_CR22,0,214,317_AL_.jpg\"/>\n",
              "        </a>\n",
              "    </div>\n",
              "    "
            ],
            "text/plain": [
              "<IPython.core.display.HTML object>"
            ]
          },
          "metadata": {
            "tags": []
          }
        }
      ]
    },
    {
      "cell_type": "markdown",
      "metadata": {
        "id": "LxrVtrt63A9d"
      },
      "source": [
        "### Genere"
      ]
    },
    {
      "cell_type": "markdown",
      "metadata": {
        "id": "ISgMH7Ch3JSK"
      },
      "source": [
        "At last we take three (mostly) comedy actors and one more serious-type actor such as Christian Bale, who should not belong here."
      ]
    },
    {
      "cell_type": "code",
      "metadata": {
        "id": "GvmnCc2HDdbu"
      },
      "source": [
        "christian_bale = 'nm0000288'\n",
        "will_ferrell = 'nm0002071'\n",
        "seth_rogen = 'nm0736622'\n",
        "adam_sandler = 'nm0001191'"
      ],
      "execution_count": null,
      "outputs": []
    },
    {
      "cell_type": "code",
      "metadata": {
        "id": "NehQEwObDdbv",
        "colab": {
          "base_uri": "https://localhost:8080/",
          "height": 253
        },
        "outputId": "0f7ed351-b4af-44e1-99ed-128523204748"
      },
      "source": [
        "who_doesnt_match(christian_bale, will_ferrell, seth_rogen, adam_sandler)"
      ],
      "execution_count": null,
      "outputs": [
        {
          "output_type": "stream",
          "text": [
            "/usr/local/lib/python3.7/dist-packages/gensim/models/keyedvectors.py:895: FutureWarning: arrays to stack must be passed as a \"sequence\" type such as list or tuple. Support for non-sequence iterables such as generators is deprecated as of NumPy 1.16 and will raise an error in the future.\n",
            "  vectors = vstack(self.word_vec(word, use_norm=True) for word in used_words).astype(REAL)\n"
          ],
          "name": "stderr"
        },
        {
          "output_type": "display_data",
          "data": {
            "text/html": [
              "\n",
              "    <div style=\"width: 150px; text-align: center\">\n",
              "        <h4 style='margin-top: -5px'>Christian Bale</h4>\n",
              "        <div style='font-size:75%; margin-bottom: 5px'>nm0000288</div>\n",
              "        <a href=\"https://www.imdb.com/name/nm0000288\" target=\"_blank\">\n",
              "            <img style=\"width: 100px; display: block; margin-left: auto; margin-right: auto;\" src=\"https://m.media-amazon.com/images/M/MV5BMTkxMzk4MjQ4MF5BMl5BanBnXkFtZTcwMzExODQxOA@@._V1_UX214_CR0,0,214,317_AL_.jpg\"/>\n",
              "        </a>\n",
              "    </div>\n",
              "    "
            ],
            "text/plain": [
              "<IPython.core.display.HTML object>"
            ]
          },
          "metadata": {
            "tags": []
          }
        }
      ]
    },
    {
      "cell_type": "markdown",
      "metadata": {
        "id": "Cw4faXY43_tb"
      },
      "source": [
        "We have seen that using word2vec to embedd actors into vectors seem to work pretty well. These numbers contain information such as how famous the actor/actress is, in which era he/she was a star, and the kind of movies he/she is usually in."
      ]
    },
    {
      "cell_type": "markdown",
      "metadata": {
        "id": "Cm87fyR9Ddbv"
      },
      "source": [
        "## Choosing proxy for movies' popularity"
      ]
    },
    {
      "cell_type": "markdown",
      "metadata": {
        "id": "n1y4gf1S448z"
      },
      "source": [
        "We used the number of IMDB votes as a proxy to measure a movie's popularity. The goal is to predict which movies will be among the Top 1% in terms of IMDB votes based on its cast and crew. We named these kinds of movies a \"Classic\" in our dataset to easily differentiate them from the rest."
      ]
    },
    {
      "cell_type": "code",
      "metadata": {
        "id": "Fc1yOd-0Ddbv",
        "colab": {
          "base_uri": "https://localhost:8080/"
        },
        "outputId": "016e1438-c999-43be-d0dd-6662929defc7"
      },
      "source": [
        "np.percentile(movies.numVotes, 99)"
      ],
      "execution_count": null,
      "outputs": [
        {
          "output_type": "execute_result",
          "data": {
            "text/plain": [
              "123618.60000000102"
            ]
          },
          "metadata": {
            "tags": []
          },
          "execution_count": 38
        }
      ]
    },
    {
      "cell_type": "code",
      "metadata": {
        "id": "SXhQPWsNDdbv"
      },
      "source": [
        "movies_docs = movies.to_dict(orient='records')\n",
        "movies['Classic'] = [1 if x['numVotes']>np.percentile(movies.numVotes, 99) else 0 for x in movies_docs]"
      ],
      "execution_count": null,
      "outputs": []
    },
    {
      "cell_type": "code",
      "metadata": {
        "id": "2sVA6DtNDdbw",
        "colab": {
          "base_uri": "https://localhost:8080/"
        },
        "outputId": "399044f1-2de3-4f00-ff01-a1e5aca6d68f"
      },
      "source": [
        "len(movies[movies['Classic']==1]) / len(movies)"
      ],
      "execution_count": null,
      "outputs": [
        {
          "output_type": "execute_result",
          "data": {
            "text/plain": [
              "0.010002687722917559"
            ]
          },
          "metadata": {
            "tags": []
          },
          "execution_count": 40
        }
      ]
    },
    {
      "cell_type": "markdown",
      "metadata": {
        "id": "JMLSBYHU5OZu"
      },
      "source": [
        "Here are some of these classic movies we have."
      ]
    },
    {
      "cell_type": "code",
      "metadata": {
        "id": "D7kAG5ULDdbw",
        "colab": {
          "base_uri": "https://localhost:8080/",
          "height": 459
        },
        "outputId": "86b4c70b-e517-4238-dd75-fc08ed86a4df"
      },
      "source": [
        "movies[movies['Classic']==1].sample(5)"
      ],
      "execution_count": null,
      "outputs": [
        {
          "output_type": "execute_result",
          "data": {
            "text/html": [
              "<div>\n",
              "<style scoped>\n",
              "    .dataframe tbody tr th:only-of-type {\n",
              "        vertical-align: middle;\n",
              "    }\n",
              "\n",
              "    .dataframe tbody tr th {\n",
              "        vertical-align: top;\n",
              "    }\n",
              "\n",
              "    .dataframe thead th {\n",
              "        text-align: right;\n",
              "    }\n",
              "</style>\n",
              "<table border=\"1\" class=\"dataframe\">\n",
              "  <thead>\n",
              "    <tr style=\"text-align: right;\">\n",
              "      <th></th>\n",
              "      <th>tconst</th>\n",
              "      <th>titleType</th>\n",
              "      <th>primaryTitle</th>\n",
              "      <th>originalTitle</th>\n",
              "      <th>isAdult</th>\n",
              "      <th>startYear</th>\n",
              "      <th>endYear</th>\n",
              "      <th>runtimeMinutes</th>\n",
              "      <th>genres</th>\n",
              "      <th>averageRating</th>\n",
              "      <th>numVotes</th>\n",
              "      <th>cast</th>\n",
              "      <th>crew</th>\n",
              "      <th>Classic</th>\n",
              "    </tr>\n",
              "  </thead>\n",
              "  <tbody>\n",
              "    <tr>\n",
              "      <th>99395</th>\n",
              "      <td>tt2239822</td>\n",
              "      <td>movie</td>\n",
              "      <td>Valerian and the City of a Thousand Planets</td>\n",
              "      <td>Valerian and the City of a Thousand Planets</td>\n",
              "      <td>0</td>\n",
              "      <td>2017.0</td>\n",
              "      <td>\\N</td>\n",
              "      <td>137.0</td>\n",
              "      <td>[Action, Adventure, Fantasy]</td>\n",
              "      <td>6.5</td>\n",
              "      <td>147191.0</td>\n",
              "      <td>[nm2851530, nm5353321, nm0654110, nm1982597]</td>\n",
              "      <td>[nm0005636, nm0000108, nm0160391, nm0617789, n...</td>\n",
              "      <td>1</td>\n",
              "    </tr>\n",
              "    <tr>\n",
              "      <th>66621</th>\n",
              "      <td>tt0458525</td>\n",
              "      <td>movie</td>\n",
              "      <td>X-Men Origins: Wolverine</td>\n",
              "      <td>X-Men Origins: Wolverine</td>\n",
              "      <td>0</td>\n",
              "      <td>2009.0</td>\n",
              "      <td>\\N</td>\n",
              "      <td>107.0</td>\n",
              "      <td>[Action, Adventure, Sci-Fi]</td>\n",
              "      <td>6.6</td>\n",
              "      <td>445998.0</td>\n",
              "      <td>[nm0413168, nm0000630, nm0005351, nm0396812]</td>\n",
              "      <td>[nm0003515, nm0004303, nm1125275, nm0940790, n...</td>\n",
              "      <td>1</td>\n",
              "    </tr>\n",
              "    <tr>\n",
              "      <th>92182</th>\n",
              "      <td>tt1800241</td>\n",
              "      <td>movie</td>\n",
              "      <td>American Hustle</td>\n",
              "      <td>American Hustle</td>\n",
              "      <td>0</td>\n",
              "      <td>2013.0</td>\n",
              "      <td>\\N</td>\n",
              "      <td>138.0</td>\n",
              "      <td>[Crime, Drama]</td>\n",
              "      <td>7.2</td>\n",
              "      <td>425229.0</td>\n",
              "      <td>[nm0000288, nm0010736, nm0177896, nm2225369]</td>\n",
              "      <td>[nm0837112, nm0751102, nm2545235, nm2691892, n...</td>\n",
              "      <td>1</td>\n",
              "    </tr>\n",
              "    <tr>\n",
              "      <th>107494</th>\n",
              "      <td>tt3065204</td>\n",
              "      <td>movie</td>\n",
              "      <td>The Conjuring 2</td>\n",
              "      <td>The Conjuring 2</td>\n",
              "      <td>0</td>\n",
              "      <td>2016.0</td>\n",
              "      <td>\\N</td>\n",
              "      <td>134.0</td>\n",
              "      <td>[Horror, Mystery, Thriller]</td>\n",
              "      <td>7.3</td>\n",
              "      <td>204766.0</td>\n",
              "      <td>[nm0267812, nm0933940, nm4068901, nm0640323]</td>\n",
              "      <td>[nm0755911, nm1490123, nm0370937, nm0370928, n...</td>\n",
              "      <td>1</td>\n",
              "    </tr>\n",
              "    <tr>\n",
              "      <th>31744</th>\n",
              "      <td>tt0118571</td>\n",
              "      <td>movie</td>\n",
              "      <td>Air Force One</td>\n",
              "      <td>Air Force One</td>\n",
              "      <td>0</td>\n",
              "      <td>1997.0</td>\n",
              "      <td>\\N</td>\n",
              "      <td>124.0</td>\n",
              "      <td>[Action, Drama, Thriller]</td>\n",
              "      <td>6.5</td>\n",
              "      <td>170358.0</td>\n",
              "      <td>[nm0000148, nm0000198, nm0000335, nm0187724]</td>\n",
              "      <td>[nm0000025, nm0000583, nm0549256, nm0077000, n...</td>\n",
              "      <td>1</td>\n",
              "    </tr>\n",
              "  </tbody>\n",
              "</table>\n",
              "</div>"
            ],
            "text/plain": [
              "           tconst titleType                                 primaryTitle  \\\n",
              "99395   tt2239822     movie  Valerian and the City of a Thousand Planets   \n",
              "66621   tt0458525     movie                     X-Men Origins: Wolverine   \n",
              "92182   tt1800241     movie                              American Hustle   \n",
              "107494  tt3065204     movie                              The Conjuring 2   \n",
              "31744   tt0118571     movie                                Air Force One   \n",
              "\n",
              "                                      originalTitle  isAdult  startYear  \\\n",
              "99395   Valerian and the City of a Thousand Planets        0     2017.0   \n",
              "66621                      X-Men Origins: Wolverine        0     2009.0   \n",
              "92182                               American Hustle        0     2013.0   \n",
              "107494                              The Conjuring 2        0     2016.0   \n",
              "31744                                 Air Force One        0     1997.0   \n",
              "\n",
              "       endYear  runtimeMinutes                        genres  averageRating  \\\n",
              "99395       \\N           137.0  [Action, Adventure, Fantasy]            6.5   \n",
              "66621       \\N           107.0   [Action, Adventure, Sci-Fi]            6.6   \n",
              "92182       \\N           138.0                [Crime, Drama]            7.2   \n",
              "107494      \\N           134.0   [Horror, Mystery, Thriller]            7.3   \n",
              "31744       \\N           124.0     [Action, Drama, Thriller]            6.5   \n",
              "\n",
              "        numVotes                                          cast  \\\n",
              "99395   147191.0  [nm2851530, nm5353321, nm0654110, nm1982597]   \n",
              "66621   445998.0  [nm0413168, nm0000630, nm0005351, nm0396812]   \n",
              "92182   425229.0  [nm0000288, nm0010736, nm0177896, nm2225369]   \n",
              "107494  204766.0  [nm0267812, nm0933940, nm4068901, nm0640323]   \n",
              "31744   170358.0  [nm0000148, nm0000198, nm0000335, nm0187724]   \n",
              "\n",
              "                                                     crew  Classic  \n",
              "99395   [nm0005636, nm0000108, nm0160391, nm0617789, n...        1  \n",
              "66621   [nm0003515, nm0004303, nm1125275, nm0940790, n...        1  \n",
              "92182   [nm0837112, nm0751102, nm2545235, nm2691892, n...        1  \n",
              "107494  [nm0755911, nm1490123, nm0370937, nm0370928, n...        1  \n",
              "31744   [nm0000025, nm0000583, nm0549256, nm0077000, n...        1  "
            ]
          },
          "metadata": {
            "tags": []
          },
          "execution_count": 116
        }
      ]
    },
    {
      "cell_type": "markdown",
      "metadata": {
        "id": "TKvJjB4eDdbw"
      },
      "source": [
        "## Feature Engineering"
      ]
    },
    {
      "cell_type": "markdown",
      "metadata": {
        "id": "RvjJzMlJDdbw"
      },
      "source": [
        "### Cast & Crew"
      ]
    },
    {
      "cell_type": "markdown",
      "metadata": {
        "id": "AVdfzbZf5zAt"
      },
      "source": [
        "The class below takes, each movie, its entire cast or crew vectors, and then computes the mean of all of them."
      ]
    },
    {
      "cell_type": "markdown",
      "metadata": {
        "id": "57-DiOyx59km"
      },
      "source": [
        "The result of this is a one 100-length vector that summarizes the cast or crew that was involved in the movie."
      ]
    },
    {
      "cell_type": "code",
      "metadata": {
        "id": "6g3Hm9jaDdbw"
      },
      "source": [
        "class W2VFeatures(BaseEstimator, TransformerMixin):\n",
        "    def __init__(self, wtv, category, min_cnt_movies=2):\n",
        "        self.category = category\n",
        "        self.min_cnt_movies = min_cnt_movies\n",
        "        self.wtv = wtv\n",
        "\n",
        "    def fit(self, X, y):\n",
        "        self.default_vector = np.zeros(100)\n",
        "        #self.default_vector = np.mean(wtv.wv.vectors, axis=0)\n",
        "        return self\n",
        "    \n",
        "    def _get_movie_vector(self, x_i):\n",
        "        vectors = []\n",
        "        for person in x_i[self.category]:\n",
        "            if person not in self.wtv.wv or self.wtv.wv.vocab[person].count < self.min_cnt_movies: continue\n",
        "            vectors.append(self.wtv.wv[person])\n",
        "            \n",
        "        if len(vectors) == 0:\n",
        "            return self.default_vector\n",
        "        else:\n",
        "            return np.mean(vectors, axis=0)\n",
        "            \n",
        "    def transform(self, X):\n",
        "        return np.asarray([self._get_movie_vector(x_i) for x_i in X])"
      ],
      "execution_count": null,
      "outputs": []
    },
    {
      "cell_type": "markdown",
      "metadata": {
        "id": "cKqjPKtNDdbw"
      },
      "source": [
        "### Other features"
      ]
    },
    {
      "cell_type": "markdown",
      "metadata": {
        "id": "Zqm12P6d6PxI"
      },
      "source": [
        "There are some other things, like the Genre of a movie, its Runtime and the Year it was released, that affect the number of votes it gets."
      ]
    },
    {
      "cell_type": "markdown",
      "metadata": {
        "id": "U3i4OQuZDdbx"
      },
      "source": [
        "#### RunTime"
      ]
    },
    {
      "cell_type": "code",
      "metadata": {
        "id": "yyTP3ndVDdbx",
        "colab": {
          "base_uri": "https://localhost:8080/"
        },
        "outputId": "1501b658-fe05-4fbc-f27d-a5ace5f8b123"
      },
      "source": [
        "movies.runtimeMinutes.corr(np.log(movies.numVotes))"
      ],
      "execution_count": null,
      "outputs": [
        {
          "output_type": "execute_result",
          "data": {
            "text/plain": [
              "0.23236357418167666"
            ]
          },
          "metadata": {
            "tags": []
          },
          "execution_count": 43
        }
      ]
    },
    {
      "cell_type": "markdown",
      "metadata": {
        "id": "NKtfs2xo7DWI"
      },
      "source": [
        "We see that there is a weak/moderate correlation between runtime and the number of votes. But let's add it to our model"
      ]
    },
    {
      "cell_type": "markdown",
      "metadata": {
        "id": "oJweFeeMDdbx"
      },
      "source": [
        "#### Genre"
      ]
    },
    {
      "cell_type": "markdown",
      "metadata": {
        "id": "NXs7PIxx7OPm"
      },
      "source": [
        "First let's see how balanced/imbalanced the genres are in our data according to whether they are \"classic\" movies:"
      ]
    },
    {
      "cell_type": "code",
      "metadata": {
        "id": "mgfRcfn8Ddby"
      },
      "source": [
        "class GenreDummies(BaseEstimator, TransformerMixin):\n",
        "    def fit(self, X, y): return self\n",
        "    def transform(self, X):\n",
        "        res = []\n",
        "        for e in X:\n",
        "            res.append({g: 1 for g in e['genres']})\n",
        "        return res  "
      ],
      "execution_count": null,
      "outputs": []
    },
    {
      "cell_type": "code",
      "metadata": {
        "id": "dhfDHuyYDdby"
      },
      "source": [
        "v = DictVectorizer(sparse=False)\n",
        "dummies_genre = v.fit_transform(GenreDummies().transform(movies_docs))"
      ],
      "execution_count": null,
      "outputs": []
    },
    {
      "cell_type": "code",
      "metadata": {
        "id": "HjoveJViDdby"
      },
      "source": [
        "df_genres = pd.DataFrame(dummies_genre, columns=v.feature_names_)\n",
        "df_genres = df_genres.astype(int)\n",
        "genres_analysis = pd.concat([movies, df_genres], axis=1)\n",
        "graph1 = pd.DataFrame(genres_analysis[genres_analysis['numVotes'] > np.percentile(genres_analysis.numVotes,97)].iloc[:,14:-1] \\\n",
        "                     .sum(axis=0) / len(genres_analysis[genres_analysis['numVotes'] > \\\n",
        "                    np.percentile(genres_analysis.numVotes,97)])).reset_index().rename(columns={'index': 'genre', 0: 'pct'})\n",
        "graph1['classic']=\"Classic\"\n",
        "graph2 = pd.DataFrame(genres_analysis.iloc[:,14:-1] \\\n",
        "                     .sum(axis=0) / len(genres_analysis)).reset_index().rename(columns={'index': 'genre', 0: 'pct'})\n",
        "graph2['classic'] = \"All\"\n",
        "graph = pd.concat([graph1, graph2], axis=0) "
      ],
      "execution_count": null,
      "outputs": []
    },
    {
      "cell_type": "code",
      "metadata": {
        "id": "dKzpHdiODdby",
        "colab": {
          "base_uri": "https://localhost:8080/",
          "height": 1000
        },
        "outputId": "5fe23d4a-af44-43df-a293-5549123a225c"
      },
      "source": [
        "import seaborn as sns\n",
        "sns.set_style(\"white\")\n",
        "fig, ax = plt.subplots(figsize=(14,20))\n",
        "ax = sns.barplot(y='genre', x='pct', hue='classic', data=graph, palette='viridis')\n",
        "ax.grid(color='grey', linestyle='-', linewidth=0.1, axis='x')\n",
        "ax.set_xticks([0.05, 0.10, .15, .20, .25, .30, .35, .40, .45, .50])\n",
        "ax.set_yticklabels(graph.genre[:23], size = 13, fontfamily='serif')\n",
        "ax.set_xlabel('% of total movies', fontsize=15)\n",
        "ax.set_ylabel('Genre', fontsize=15, fontfamily='serif')\n",
        "ax.tick_params(labelbottom=True,labeltop=True)\n",
        "plt.title('% of total movies per genre (1960-2020)', fontsize=20)"
      ],
      "execution_count": null,
      "outputs": [
        {
          "output_type": "execute_result",
          "data": {
            "text/plain": [
              "Text(0.5, 1.0, '% of total movies per genre (1960-2020)')"
            ]
          },
          "metadata": {
            "tags": []
          },
          "execution_count": 48
        },
        {
          "output_type": "display_data",
          "data": {
            "image/png": "[encoded data removed]",
            "text/plain": [
              "<Figure size 1008x1440 with 1 Axes>"
            ]
          },
          "metadata": {
            "tags": []
          }
        }
      ]
    },
    {
      "cell_type": "markdown",
      "metadata": {
        "id": "WmdgLZ5E7VRa"
      },
      "source": [
        "We find some very clear differences, mostly in the genres Action and Adventure. Action movies comprise around 12% of total movies, but almost 30% of these so-called Classic movies belong to the Action genre. <br>We find a similar situation with the Adventure genre movies. This suggests that we must control for a movie's genre in the model.\n",
        "\n",
        "Let's see how certain genres' popularity has evolved through time."
      ]
    },
    {
      "cell_type": "code",
      "metadata": {
        "id": "dBT3eKMpDdby"
      },
      "source": [
        "genres_prog = genres_analysis.groupby(by='startYear').agg({'Horror': 'sum', 'Comedy': 'sum', \\\n",
        "                                                           'Drama':'sum', 'Sci-Fi':'sum', 'tconst': 'count'})\n",
        "genres_prog.reset_index(inplace=True)\n",
        "genres_prog['%_horror'] = genres_prog['Horror'] / genres_prog['tconst'] * 100\n",
        "genres_prog['%_comedy'] = genres_prog['Comedy'] / genres_prog['tconst'] * 100\n",
        "genres_prog['%_drama'] = genres_prog['Drama'] / genres_prog['tconst'] * 100\n",
        "genres_prog['%_scifi'] = genres_prog['Sci-Fi'] / genres_prog['tconst'] * 100\n",
        "genres_prog = genres_prog.iloc[:-1,:]"
      ],
      "execution_count": null,
      "outputs": []
    },
    {
      "cell_type": "code",
      "metadata": {
        "id": "Ud3gSha6Ddby",
        "colab": {
          "base_uri": "https://localhost:8080/",
          "height": 537
        },
        "outputId": "c1b28cc1-55a5-484d-ab3d-c3a2e65951da"
      },
      "source": [
        "ax = plt.subplots(figsize=(18,8))\n",
        "ax = sns.lineplot(x=genres_prog['startYear'], y=genres_prog['%_horror'], legend='brief')\n",
        "ax.set_xlabel('Year', fontsize=15)\n",
        "ax.set_ylabel('# of Horror films per 100 movies', fontsize=15)\n",
        "ax.grid(color='grey', linestyle='-', linewidth=0.1)\n",
        "ax.set_xticks([1965, 1970, 1975, 1980, 1985, 1990, 1995, 2000, 2005, 2010, 2015, 2020])\n",
        "plt.title('Progression of Horror films through time', fontsize=16)"
      ],
      "execution_count": null,
      "outputs": [
        {
          "output_type": "execute_result",
          "data": {
            "text/plain": [
              "Text(0.5, 1.0, 'Progression of Horror films through time')"
            ]
          },
          "metadata": {
            "tags": []
          },
          "execution_count": 50
        },
        {
          "output_type": "display_data",
          "data": {
            "image/png": "[encoded data removed]",
            "text/plain": [
              "<Figure size 1296x576 with 1 Axes>"
            ]
          },
          "metadata": {
            "tags": []
          }
        }
      ]
    },
    {
      "cell_type": "markdown",
      "metadata": {
        "id": "I-OWfouO_iP0"
      },
      "source": [
        "We see that the production of Horror films decreased heavily during the 90's after the golden age of the genre in the 80's. <br>\n",
        "It then started slowly increasing again after year 2000 and nowadays it seems to be quite popular again."
      ]
    },
    {
      "cell_type": "code",
      "metadata": {
        "id": "n49ss41EDdbz",
        "colab": {
          "base_uri": "https://localhost:8080/",
          "height": 537
        },
        "outputId": "fe22943e-1ee2-448f-8ac4-7117e38f87d5"
      },
      "source": [
        "ax = plt.subplots(figsize=(18,8))\n",
        "ax = sns.lineplot(x=genres_prog['startYear'], y=genres_prog['%_scifi'], legend='brief')\n",
        "ax.set_xlabel('Year', fontsize=15)\n",
        "ax.set_ylabel('# of Sci-Fi films per 100 movies', fontsize=15)\n",
        "ax.grid(color='grey', linestyle='-', linewidth=0.1)\n",
        "ax.set_xticks([1965, 1970, 1975, 1980, 1985, 1990, 1995, 2000, 2005, 2010, 2015, 2020])\n",
        "plt.title('Progression of Sci-Fi films through time', fontsize=16)"
      ],
      "execution_count": null,
      "outputs": [
        {
          "output_type": "execute_result",
          "data": {
            "text/plain": [
              "Text(0.5, 1.0, 'Progression of Sci-Fi films through time')"
            ]
          },
          "metadata": {
            "tags": []
          },
          "execution_count": 51
        },
        {
          "output_type": "display_data",
          "data": {
            "image/png": "[encoded data removed]",
            "text/plain": [
              "<Figure size 1296x576 with 1 Axes>"
            ]
          },
          "metadata": {
            "tags": []
          }
        }
      ]
    },
    {
      "cell_type": "markdown",
      "metadata": {
        "id": "4YUOVnBlDdbz"
      },
      "source": [
        "#### Year of Release"
      ]
    },
    {
      "cell_type": "code",
      "metadata": {
        "id": "9Prp7LvIDdbz"
      },
      "source": [
        "class ReleaseYear(BaseEstimator, TransformerMixin):\n",
        "    def fit(self, X, y): return self\n",
        "    def transform(self, X):\n",
        "        res = []\n",
        "        for e in X:\n",
        "            res.append({'release_year': int(e['startYear'])})\n",
        "        return res"
      ],
      "execution_count": null,
      "outputs": []
    },
    {
      "cell_type": "code",
      "metadata": {
        "id": "ksmSiaiIDdbz",
        "colab": {
          "base_uri": "https://localhost:8080/",
          "height": 530
        },
        "outputId": "6e5782af-3523-44fe-d343-c1d673b70602"
      },
      "source": [
        "ax = plt.subplots(figsize=(18,8))\n",
        "ax = sns.lineplot(x=movies['startYear'], y=np.log(movies['numVotes']))\n",
        "ax.grid(color='grey', linestyle='-', linewidth=0.1)\n",
        "plt.title('Year vs. logVotes')"
      ],
      "execution_count": null,
      "outputs": [
        {
          "output_type": "execute_result",
          "data": {
            "text/plain": [
              "Text(0.5, 1.0, 'Year vs. logVotes')"
            ]
          },
          "metadata": {
            "tags": []
          },
          "execution_count": 53
        },
        {
          "output_type": "display_data",
          "data": {
            "image/png": "[encoded data removed]",
            "text/plain": [
              "<Figure size 1296x576 with 1 Axes>"
            ]
          },
          "metadata": {
            "tags": []
          }
        }
      ]
    },
    {
      "cell_type": "markdown",
      "metadata": {
        "id": "5_G__Wu6_q_9"
      },
      "source": [
        "We see that the number of votes increases until the beginning of the 2000's and then slowly goes down."
      ]
    }
  ]
}